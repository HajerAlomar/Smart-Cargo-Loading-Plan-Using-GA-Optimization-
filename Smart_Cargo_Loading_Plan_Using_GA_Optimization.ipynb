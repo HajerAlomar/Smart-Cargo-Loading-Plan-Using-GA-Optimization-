{
 "cells": [
  {
   "cell_type": "markdown",
   "id": "dc293358",
   "metadata": {},
   "source": [
    "## Smart Cargo Loading Plan Using GA Optimization \n",
   ]
  },
  {
   "cell_type": "code",
   "execution_count": 1,
   "id": "c8e28bc4",
   "metadata": {},
   "outputs": [],
   "source": [
    "import numpy as np \n",
    "import pandas as pd \n",
    "import random\n",
    "import math\n",
    "import matplotlib.pyplot as plt"
   ]
  },
  {
   "cell_type": "code",
   "execution_count": 2,
   "id": "371858f6",
   "metadata": {},
   "outputs": [],
   "source": [
    "#Creating the initial Population Function\n",
    "def Create_Initial_Population(size):\n",
    "    global pop_size\n",
    "    pop_size = (size,size) #Defining the population size\n",
    "    Initial_Population = np.random.randint(1, Containers+1, size=pop_size)\n",
    "    return Initial_Population"
   ]
  },
  {
   "cell_type": "code",
   "execution_count": 3,
   "id": "f86bf6f6",
   "metadata": {},
   "outputs": [],
   "source": [
    "#Creating the Fitness Function\n",
    "def Compute_Fitness(ItemWeights, pop):\n",
    "    containerScore = [0]*Containers\n",
    "    \n",
    "    for x in range(len(pop)):\n",
    "        #Storing each item(Weight) in its possible container\n",
    "        containerScore[pop[x]-1] += ItemWeights[x]   \n",
    "    \n",
    "    #Compute the fitnessScore of each solution\n",
    "    max = 0\n",
    "    min=0\n",
    "    for i in range(Containers):\n",
    "        if containerScore[i] > containerScore[max]:\n",
    "            max = i\n",
    "        if containerScore[i] < containerScore[min]:\n",
    "            min = i\n",
    "    global fitnessScore \n",
    "    fitnessScore = containerScore[max] - containerScore[min]\n",
    "    return fitnessScore"
   ]
  },
  {
   "cell_type": "code",
   "execution_count": 4,
   "id": "caa1dbde",
   "metadata": {},
   "outputs": [],
   "source": [
    "# tournament selection\n",
    "global selection_a\n",
    "global selection_b\n",
    "\n",
    "def Binary_Tournament_Selection(Initial_Population, fitnessScore):\n",
    "    selection_a = np.random.randint(len(Initial_Population))\n",
    "    selection_b = np.random.randint(len(Initial_Population))\n",
    "    if(selection_b != selection_a):\n",
    "        if fitnessValue[selection_a] < fitnessValue[selection_b]:\n",
    "            return Initial_Population[selection_a]\n",
    "        else:\n",
    "            return Initial_Population[selection_b]\n",
    "    else:\n",
    "        while(selection_b==selection_a ):\n",
    "            selection_b = np.random.randint(len(Initial_Population))\n",
    "        if fitnessValue[selection_a] < fitnessValue[selection_b]:\n",
    "            return Initial_Population[selection_a]\n",
    "        else:\n",
    "            return Initial_Population[selection_b]\n"
   ]
  },
  {
   "cell_type": "code",
   "execution_count": 5,
   "id": "43da1c88",
   "metadata": {},
   "outputs": [],
   "source": [
    "\n",
    "def crossover(p1,p2) :\n",
    "    \n",
    "    #Initialliy child is equal to parent 1 and child 2 is equal to parent 2\n",
    "    c1 = list(p1) #convert to array\n",
    "    c2 = list(p2)\n",
    "    \n",
    "    #Selecting random point less than the size of individual\n",
    "    point = random.randint(0,len(Initial_Population)-2)\n",
    "    \n",
    "    #Swapping values starting from selected random point to end of length\n",
    "    for i in range(point+1, len(selected_parents[0])):\n",
    "        \n",
    "        # 1st Child's left side will contain the values of parent 1 and in right side it will store values of parent 2 from selected point to last\n",
    "        # 2nd Child's left side will contain the values of parent 2 and in right side it will store values of parent 1 from selected point to last\n",
    "        \n",
    "        c1[i], c2[i] = p2[i], p1[i] #swaping\n",
    "    \n",
    "    #return both childs\n",
    "    return c1,c2"
   ]
  },
  {
   "cell_type": "code",
   "execution_count": 6,
   "id": "86203a5d",
   "metadata": {},
   "outputs": [],
   "source": [
    "def Mutation_Fuction(k,c1,c2):\n",
    "    for i in range(0,k):\n",
    "        gene = random.randint(1,Containers)\n",
    "        \n",
    "        position = random.randint(0,len(Initial_Population)-1) \n",
    "        c1[position]=gene\n",
    "        c2[position]=gene\n",
    "    return c1,c2"
   ]
  },
  {
   "cell_type": "markdown",
   "id": "8bd677ef",
   "metadata": {},
   "source": [
    "# Performing all the Experiments on instance 1"
   ]
  },
  {
   "cell_type": "code",
   "execution_count": 31,
   "id": "ecd3a994",
   "metadata": {},
   "outputs": [],
   "source": [
    "#Instance1: number of items n=200, items weights option 1, number of containers c=10"
   ]
  },
  {
   "cell_type": "markdown",
   "id": "de749e00",
   "metadata": {},
   "source": [
    "# Experiment 1"
   ]
  },
  {
   "cell_type": "code",
   "execution_count": 32,
   "id": "e3575e73",
   "metadata": {},
   "outputs": [
    {
     "name": "stdout",
     "output_type": "stream",
     "text": [
      "Please enter the number of containers(c): 10\n",
      "Please enter the number of items(𝑛): 200\n",
      "\n",
      "Please choose one of the following options:\n",
      "[1] for weight i/2\n",
      "[2] for weight i^2/2 \n",
      "Your option:  1\n",
      "\n",
      "Search Space: \n",
      "102400000000000000000000\n"
     ]
    }
   ],
   "source": [
    "Containers = int(input(\"Please enter the number of containers(c): \"))\n",
    "Items = int(input(\"Please enter the number of items(𝑛): \"))\n",
    "\n",
    "#list of Item weights\n",
    "ItemWeights=[]\n",
    "\n",
    "#taking user option to set weights\n",
    "opt = int(input(\"\\nPlease choose one of the following options:\\n[1] for weight i/2\\n[2] for weight i^2/2 \\nYour option:  \"))\n",
    "if opt == 1:\n",
    "    for x in range(int(Items)):\n",
    "        i = x+1\n",
    "        #Option \"1\" for weights (i/2)\n",
    "        ItemWeights.append(i/2) \n",
    "if opt == 2:\n",
    "    for x in range(int(Items)):\n",
    "        i = x+1\n",
    "        #Option \"2\" for weights (i^2/2)\n",
    "        ItemWeights.append(i**2/2) \n",
    "\n",
    "#Print the Search Space:\n",
    "print(\"\\nSearch Space: \")\n",
    "print(Items**Containers)\n"
   ]
  },
  {
   "cell_type": "code",
   "execution_count": 33,
   "id": "8add0508",
   "metadata": {},
   "outputs": [],
   "source": [
    "max_fitness_of_generation = 0.0\n",
    "max_fitness_scores = []\n",
    "\n",
    "for i in range(0,5):\n",
    "    #Calling the initial Population Function\n",
    "    Initial_Population=Create_Initial_Population(10)\n",
    "    \n",
    "    for val in range(0,10000):\n",
    "        fitnessValue = []\n",
    "        for i in range(len(Initial_Population)):\n",
    "            fitness = Compute_Fitness(ItemWeights, Initial_Population[i])\n",
    "            fitnessValue.append(fitness)\n",
    "            \n",
    "        max_fitness = max(fitnessValue)\n",
    "        \n",
    "        if(max_fitness > max_fitness_of_generation):\n",
    "            max_fitness_of_generation = max_fitness\n",
    "            \n",
    "        # select parents\n",
    "        selected_parents = []\n",
    "        selected_parents = [Binary_Tournament_Selection(Initial_Population, fitnessValue)for _ in range(2)]\n",
    "        p1 = selected_parents[0]\n",
    "        p2 = selected_parents[1]\n",
    "        global c1\n",
    "        global c2\n",
    "        c1 = []\n",
    "        c2 = []\n",
    "        \n",
    "        c1,c2 = crossover(p1,p2)\n",
    "        Mutation_Fuction(1,c1,c2)\n",
    "        \n",
    "        child1 = []\n",
    "        child1[:0] = c1\n",
    "        child2 = []\n",
    "        child2[:0] = c2\n",
    "    \n",
    "        for i in range(0, len(child1)):\n",
    "            child1[i] = int(child1[i])\n",
    "        for i in range(0, len(child2)):\n",
    "            child2[i] = int(child2[i])\n",
    "            \n",
    "            \n",
    "        #Computing their Fitness\n",
    "        c1Fitness = Compute_Fitness(ItemWeights, child1)\n",
    "        c2Fitness = Compute_Fitness(ItemWeights, child2)\n",
    "        \n",
    "        #Generating new POPULATION\n",
    "        if(c1Fitness < max(fitnessValue)):\n",
    "            Initial_Population[fitnessValue.index(max(fitnessValue))]= child1\n",
    "                               \n",
    "        if(c2Fitness < max(fitnessValue)):\n",
    "            Initial_Population[fitnessValue.index(max(fitnessValue))] = child2\n",
    "            \n",
    "        #Printing new generated POPULATION\n",
    "        new_population = Initial_Population\n",
    "    max_fitness_scores.append(max_fitness_of_generation)  "
   ]
  },
  {
   "cell_type": "code",
   "execution_count": 34,
   "id": "332413f5",
   "metadata": {},
   "outputs": [
    {
     "name": "stdout",
     "output_type": "stream",
     "text": [
      "[13.0, 13.0, 13.0, 13.0, 13.0]\n"
     ]
    }
   ],
   "source": [
    "print(max_fitness_scores)"
   ]
  },
  {
   "cell_type": "code",
   "execution_count": 35,
   "id": "6cdd5933",
   "metadata": {},
   "outputs": [
    {
     "data": {
      "text/plain": [
       "Text(0, 0.5, 'Fitness Scores')"
      ]
     },
     "execution_count": 35,
     "metadata": {},
     "output_type": "execute_result"
    },
    {
     "data": {
      "image/png": "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",
      "text/plain": [
       "<Figure size 432x288 with 1 Axes>"
      ]
     },
     "metadata": {
      "needs_background": "light"
     },
     "output_type": "display_data"
    }
   ],
   "source": [
    "generation = [1, 2, 3, 4, 5]\n",
    "plt.plot(generation,max_fitness_scores)\n",
    "plt.xlabel('Generation')\n",
    "plt.ylabel('Fitness Scores')"
   ]
  },
  {
   "cell_type": "markdown",
   "id": "c81c3bc3",
   "metadata": {},
   "source": [
    "# Experiment 2"
   ]
  },
  {
   "cell_type": "code",
   "execution_count": 36,
   "id": "45b6657f",
   "metadata": {},
   "outputs": [],
   "source": [
    "max_fitness_of_generation = 0.0\n",
    "max_fitness_scores = []\n",
    "\n",
    "for i in range(0,5):\n",
    "    #Calling the initial Population Function\n",
    "    Initial_Population=Create_Initial_Population(100)\n",
    "    for val in range(0,10000):\n",
    "        fitnessValue = []\n",
    "        for i in range(len(Initial_Population)):\n",
    "            \n",
    "            fitness = Compute_Fitness(ItemWeights, Initial_Population[i])\n",
    "            fitnessValue.append(fitness)\n",
    "        max_fitness = max(fitnessValue)\n",
    "        if(max_fitness > max_fitness_of_generation):\n",
    "            max_fitness_of_generation = max_fitness\n",
    "        # select parents\n",
    "        selected_parents = []\n",
    "        \n",
    "        selected_parents = [Binary_Tournament_Selection(Initial_Population, fitnessValue)for _ in range(2)]\n",
    "    \n",
    "        p1 = selected_parents[0]\n",
    "        p2 = selected_parents[1]\n",
    "        \n",
    "        global c1\n",
    "        global c2\n",
    "        c1 = []\n",
    "        c2 = []\n",
    "        c1,c2 = crossover(p1,p2)\n",
    "        Mutation_Fuction(1,c1,c2)\n",
    "        \n",
    "    \n",
    "\n",
    "        child1 = []\n",
    "        child1[:0] = c1\n",
    "        child2 = []\n",
    "        child2[:0] = c2\n",
    "    \n",
    "        for i in range(0, len(child1)):\n",
    "            child1[i] = int(child1[i])\n",
    "        for i in range(0, len(child2)):\n",
    "            child2[i] = int(child2[i])\n",
    "\n",
    "\n",
    "        #Computing their Fitness\n",
    "        c1Fitness = Compute_Fitness(ItemWeights, child1)\n",
    "        c2Fitness = Compute_Fitness(ItemWeights, child2)\n",
    "        \n",
    "        #Generating new POPULATION\n",
    "        if(c1Fitness < max(fitnessValue)):\n",
    "            Initial_Population[fitnessValue.index(max(fitnessValue))]= child1\n",
    "                               \n",
    "        if(c2Fitness < max(fitnessValue)):\n",
    "            Initial_Population[fitnessValue.index(max(fitnessValue))] = child2\n",
    "            \n",
    "        new_population = Initial_Population\n",
    "    max_fitness_scores.append(max_fitness_of_generation)"
   ]
  },
  {
   "cell_type": "code",
   "execution_count": 37,
   "id": "3cab2b11",
   "metadata": {},
   "outputs": [
    {
     "name": "stdout",
     "output_type": "stream",
     "text": [
      "[507.0, 507.5, 507.5, 560.0, 560.0]\n"
     ]
    }
   ],
   "source": [
    "print(max_fitness_scores)"
   ]
  },
  {
   "cell_type": "code",
   "execution_count": 38,
   "id": "8bab83d6",
   "metadata": {},
   "outputs": [
    {
     "data": {
      "text/plain": [
       "Text(0, 0.5, 'Fitness Scores')"
      ]
     },
     "execution_count": 38,
     "metadata": {},
     "output_type": "execute_result"
    },
    {
     "data": {
      "image/png": "iVBORw0KGgoAAAANSUhEUgAAAYUAAAEGCAYAAACKB4k+AAAAOXRFWHRTb2Z0d2FyZQBNYXRwbG90bGliIHZlcnNpb24zLjUuMSwgaHR0cHM6Ly9tYXRwbG90bGliLm9yZy/YYfK9AAAACXBIWXMAAAsTAAALEwEAmpwYAAAhSklEQVR4nO3deZRU53nn8e+v6WYVAiH2RQJZIBskQNDiSMaWJdtB1hLJsrWQyI6znGGcQxx7MokzihNnG87JJPEy8YmTKDPOOBnLdCMZDfIiI0u2FDu26QIhAVoxIKppBA1CrGLp7mf+qNutEnQ31dC3bnX373NOnar73lt1n34p7lP3vcujiMDMzAygKusAzMyscjgpmJlZBycFMzPr4KRgZmYdnBTMzKxDddYBnI+xY8fG9OnTsw7DzKxPWb9+/b6IGNfZvD6dFKZPn04ul8s6DDOzPkXSq13N8/CRmZl1cFIwM7MOTgpmZtbBScHMzDo4KZiZWYdUk4KkHZI2SdooKVfU/ilJL0naIumvi9rvl7Q1mXdTmrGZmdmZynFK6o0Rsa99QtKNwB3A3Ig4IWl80j4bWArMASYDP5A0KyJayxCjmZmRzXUKvw38VUScAIiIvUn7HcDKpH27pK3AIuCnGcRoZmX06LNNvLLncNZh9CmzJo7ktrmTe/1z004KAayVFMA/RcQDwCzgvZJWAMeB34+IBmAK8LOi9zYmbW8jaRmwDOCSSy5JOXwzS9trB4/z6ZXP0BYgZR1N33Hb3Ml9MiksjoimZIjocUkvJuu8CLgWuAaol3QZ0NnX4YwKQElieQCgtrbWFYLM+riH1udpC3jqD27g0otHZB3OgJfqgeaIaEqe9wKrKQwHNQLfioJ1QBswNmmfVvT2qUBTmvGZWbba2oL6XCPXXXaxE0KFSC0pSBohaWT7a2AJsBl4BHh/0j4LGAzsA9YASyUNkTQDmAmsSys+M8vez7btZ+frx1i6aNrZF7aySHP4aAKwWoVBwmrgwYh4TNJg4GuSNgMngU9EoVD0Fkn1wPNAC7DcZx6Z9W91uTwXDq3mpjkTsw7FEqklhYjYBszrpP0k8LEu3rMCWJFWTGZWOQ4eO8X3Nr/Gr1wzjaE1g7IOxxK+otnMMvHIxl2cbGnjnms8dFRJnBTMrOwigpUNea6aMoo5k0dlHY4VcVIws7LbvOsQL+w+5L2ECuSkYGZlt7JhJ0Nrqrh9Xu9ffGXnx0nBzMrqzZOtrNnYxC1XTmLUsJqsw7HTOCmYWVl9d9NuDp9o4V4PHVUkJwUzK6u6XJ4ZY0ewaMaYrEOxTjgpmFnZbGs+wrrtr3N37VTku99VJCcFMyub+lwjg6rEXQumZh2KdcFJwczK4lRrGw9vaOTGK8Yz/sKhWYdjXXBSMLOy+OGLe2k+fIKlPsBc0ZwUzKws6nN5xo8cwg1XjMs6FOuGk4KZpW7PoeM8+eJe7lo4lepB3uxUMv/rmFnqHlrfSFvAPbUeOqp0TgpmlqpCdbU81142huljXV2t0jkpmFmqfr79dV7df8xXMPcRTgpmlqq6hp2MHFrNzVdOyjoUK4GTgpmlpr262ofnT3F1tT7CScHMUvP/nt3FiZY2Dx31IU4KZpaauoY8cyZfyJVTXF2tr3BSMLNUbN51kC1Nh3wFcx/jpGBmqahryDOkuorb50/JOhTrAScFM+t1x0+18sjGXdxylaur9TVOCmbW6763eTeHj7f4CuY+yEnBzHrdynV5pl88nGsvc3W1vsZJwcx61fZ9R/n59te5u3aaq6v1QU4KZtar6nP5QnW1ha6u1hc5KZhZr2lpbeOh9Y3ceMU4Jri6Wp+UalKQtEPSJkkbJeWStj+TtCtp2yjplqLl75e0VdJLkm5KMzYz630/fKmZ5sMnfIC5D6suwzpujIh9p7V9KSL+trhB0mxgKTAHmAz8QNKsiGgtQ4xm1gvqGvKMGzmEG985PutQ7BxV0vDRHcDKiDgREduBrcCijGMysxLtPXScH760l48umEqNq6v1WWn/ywWwVtJ6ScuK2n9H0nOSvibpoqRtCpAvWqYxaTOzPuChDY20toVvftfHpZ0UFkfEAuBmYLmk64F/AN4BzAd2A19Ilu3s3LU4vUHSMkk5Sbnm5uZ0ojazHokI6hvyLJoxhhmurtanpZoUIqIped4LrAYWRcSeiGiNiDbgn3lriKgRKP6JMRVo6uQzH4iI2oioHTduXJrhm1mJfr79dXbsP+ab3/UDqSUFSSMkjWx/DSwBNksqLr90J7A5eb0GWCppiKQZwExgXVrxmVnvqWvIM3KIq6v1B2mefTQBWJ1c0VgNPBgRj0n6N0nzKQwN7QD+M0BEbJFUDzwPtADLfeaRWeU7+OYpvrtpN3fXTmXYYFdX6+tSSwoRsQ2Y10n7x7t5zwpgRVoxmVnvW7Mxqa5We0nWoVgv8HljZnZe6nJ5Zk+6kCunXJh1KNYLnBTM7Jxt3nWQzbsOce81vvldf+GkYGbnrD6XZ3B1FR92dbV+w0nBzM7J8VOtPPLMLm6+ciKjhru6Wn/hpGBm5+Sxza9x6HiLr2DuZ5wUzOyc1DXkuWTMcK6dcXHWoVgvclIwsx57df9RfrptP/deM42qKh9g7k+cFMysx+pzeaoEH13g6mr9jZOCmfVIS2sbq3KN3HjFeCaOcnW1/sZJwcx65KmXm9l7+AT3+ABzv+SkYGY9srIhz9gLhvB+V1frl5wUzKxkew8f58kX9/LRhVNcXa2f8r+qmZXs4fW7aG0L7qn10FF/5aRgZiWJCOpzeRZNH8M7xl2QdTiWEicFMyvJuu2vs33fUR9g7uecFMysJHW5QnW1W66amHUoliInBTM7q0PHC9XVfnn+ZIYPTrNgo2XNScHMzmrNxiaOn2pjqYeO+j0nBTM7q7qGPO+cOJKrpozKOhRLmZOCmXVrS9NBNu06yFJXVxsQnBTMrFv1DUl1tatdXW0gcFIwsy4dP9XK6md28aE5Exk9fHDW4VgZnDUpSBohqSp5PUvS7ZJce89sAPj+FldXG2hK2VN4GhgqaQrwBPAbwP9JMygzqwx1DXmmjRnGdZe5utpAUUpSUEQcAz4CfCUi7gRmpxuWmWXt1f1H+Y9f7Oeeha6uNpCUlBQkXQfcB3wnafPVK2b93KpcI1WCu2pdXW0gKSUpfAa4H1gdEVskXQb8MNWozCxTLa1trFqf532zxjFp1LCsw7EyOusv/oh4CnhK0ohkehvwu2kHZmbZefqVZvYcOsGf335J1qFYmZVy9tF1kp4HXkim50n6auqRmVlmVq7LM/aCwXzgXa6uNtCUMnz0ZeAmYD9ARDwLXF/Kh0vaIWmTpI2ScqfN+31JIWlsUdv9krZKeknSTSX/FWbWazqqqy2Y6upqA1BJB4wjIn/a5e2tPVjHjRGxr7hB0jTgl4CdRW2zgaXAHGAy8ANJsyKiJ+sys/P0rQ27aGkL7nZ1tQGplJ8BeUnvBkLSYEm/TzKUdB6+BHwWiKK2O4CVEXEiIrYDW4FF57keM+uBiKC+Ic810y/i8vGurjYQlZIUPgksB6YAjcD8ZLoUAayVtF7SMgBJtwO7kmGoYlOAfNF0Y9L2NpKWScpJyjU3N5cYhpmVomHHAbbtO+oazANYt8NHkgYBX46I+87x8xdHRJOk8cDjkl4EPgcs6Wx1nbTFGQ0RDwAPANTW1p4x38zOXV1DnguGVHPr3ElZh2IZ6XZPIRnPHyfpnO6EFRFNyfNeYDXwPmAG8KykHcBUYIOkiRT2DIp/nkwFms5lvWbWcx3V1ea5utpAVsq//A7gJ5LWAEfbGyPii929KbmuoSoiDievlwB/ERHji5bZAdRGxL7k8x+U9EUKB5pnAut6+PeY2Tl69Nkm3jzV6pvfDXClJIWm5FEFjOzBZ08AVidnLVUDD0bEY10tnFwtXQ88D7QAy33mkVn51CfV1eZNdXW1gayUK5r/HEDSyMJkHCnlg5Mrn+edZZnpp02vAFaU8vlm1nte2H2IZxsP8vnbZru62gBXyhXNV0p6BtgMbEnOJJqTfmhmVi51DXkGD6riTldXG/BKOSX1AeD3IuLSiLgU+K/AP6cblpmVS3t1tSVzJnDRCFdXG+hKSQojIqLjrqgR8SNgRGoRmVlZrX1+DwffPMXSa3zzOyvtQPM2SX8C/Fsy/TFge3ohmVk51TXsZOpFw3j3O1xdzUrbU/hNYBzwreQxlkJJTjPr4/KvH+MnW/dzT62rq1lBKWcfHcD1E8z6pfpcHgnuWujqalZQytlHj0saXTR9kaTvpxqVmaWutS1YlWvkfbPGMXm0q6tZQSnDR2Mj4o32iWTPwZU3zPq4p19u5rVDx7nXN7+zIqUkhTZJHaclSLqUTm5UZ2Z9S11DnotHDOYD75qQdShWQUo5++hzwI8lPZVMXw8sSy8kM0tb8+ET/OCFPfzG4ukMrnZ1NXtLKQeaH5O0ALg2afovp1dSM7O+ZfUzjbS0hW9+Z2fo8ieCpEsljQJIksBRCiU0f+1cb6VtZtmLCFY25Fl46UVcPr4n97i0gaC7/cZ6kiuXJc0HVlGoqTwP+GrqkZlZKta/eoBtzUe9l2Cd6m74aFh7kRwKVzF/LSK+IKkK2Jh6ZGaWipUNeUYMHsStV7m6mp2puz2F4ssb3w88ARARbalGZGapOXz8FN95bje3z5/MiCGurmZn6u5b8WRS9GY3cBHwJICkScDJMsRmZr3s0Wd38+apVu7xtQnWhe6SwmeAe4FJwHsi4lTSPpHCaapm1sfU5fJcMWEk86eNzjoUq1BdJoWICGBlJ+3PpBqRmaXixdcO8Wz+Df7E1dWsG75qxWyAqGvIUzNIrq5m3XJSMBsATrS0V1ebyBhXV7Nu9CgpJHdInZtWMGaWjrVb9vDGsVO++Z2dVSm3zv6RpAsljQGeBf5F0hfTD83MektdQ54po4fxnsvHZh2KVbhS9hRGRcQh4CPAv0TEQuCD6YZlZr0l//oxfrx1H3fXTnV1NTurUpJCdXJtwj3At1OOx8x62aqkutrdHjqyEpSSFP4C+D6wNSIaJF0GvJJuWGbWG1rbglXrG3nvzHFMcXU1K0Ept85eReFmeO3T24CPphmUmfWOp19pZvfB4/zJbbOzDsX6iFIONP91cqC5RtITkvZJ+lg5gjOz81PfkGfMiMF80NXVrESlDB8tSQ403wY0ArOAP0g1KjM7b/uOFKqrfeTqKa6uZiUr5ZtSkzzfAnwzIl4v9cMl7ZC0SdJGSbmk7S8lPZe0rZU0uWj5+yVtlfSSpJt69JeY2dus3rCLU62urmY9U0pSeFTSi0At8ISkccDxHqzjxoiYHxG1yfTfRMTciJhP4WymzwNImg0sBeYAHwK+KmlQD9ZjZomIoC6XZ8Elo5k5wdXVrHRnTQoR8d+A64Da5E6px4A7znWFyVBUuxFAJK/vAFZGxImI2A5sBRad63rMBrINOw+wde8R7yVYj5VyoHk4sBz4h6RpMoW9hlIEsFbSeknLij5zhaQ8cB/JngIwBcgXvbcxaTs9nmWScpJyzc3NJYZhNrDUJdXVbps7+ewLmxUpZfjoXygU1Xl3Mt0I/PcSP39xRCwAbgaWS7oeICI+FxHTgG8Av5Ms29mllnFGQ8QDEVEbEbXjxo0rMQyzgePIiRa+/dxubpvr6mrWc6UkhXdExF8DpwAi4k0634Cfob3Gc0TsBVZz5nDQg7x1zUMjULyvOxVowsx65NvPNnHsZCv3LvLQkfVcKUnhpKRhJL/aJb0DOHG2N0kaIWlk+2tgCbBZ0syixW4HXkxerwGWShoiaQYwE1hX8l9iZgCsbMgzc/wFXO3qanYOStm3/FPgMWCapG8Ai4FfL+F9E4DVSYWnauDBiHhM0sOSrgDagFeBTwJExJakJvTzQAuwPCJae/j3mA1oL712mI35N/jjW9/l6mp2Tkq5zcXjkjYA11IYNvp0ROwr4X3bgHmdtHd5i4yIWAGsONtnm1nn2qurfWTB1KxDsT6q1KNQQ4EDyfKzJRERT6cXlpn1VKG6WiNLZru6mp27syYFSf8DuBfYQmHIBwrHF5wUzCrI48/v4cCxU9zjaxPsPJSyp/Bh4IqIOOvBZTPLTl1Dnsmjhrq6mp2XUs4+2sZb9z8yswrUeKC9uto0Brm6mp2HUvYUjgEbJT1B0amoEfG7qUVlZj2yKtcIwN21PsBs56eUpLAmeRQ740pjM8tGa1uwKpfnPZePZepFw7MOx/q4UpLC6Ij4n8UNkj6dUjxm1kM/3rqPpoPH+aNb35V1KNYPlHJM4ROdtP16L8dhZueormEnFw2v4Zdmu7qanb8u9xQk/Qrwq8AMScXDRyOB/WkHZmZnt//ICR5/fg8fv3Y6Q6pdfsTOX3fDR/8B7AbGAl8oaj8MPJdmUGZWmtXPuLqa9a4uk0JEvErh3kTXlS8cMytVRFDXkGf+tNFcMdHV1ax3dHlMQdKPk+fDkg4VPQ5LOtTV+8ysPDbsfINX9h5hqfcSrBd1N3x0H0BE+CeIWQWqb8gzfPAgbpvn6mrWe7o7+2h1+wtJD5chFjMr0ZETLTz6XBO3zZ3EBa6uZr2ou6RQfK38ZWkHYmal+85zSXU1Dx1ZL+suKUQXr80sYysb8lw+/gIWXHJR1qFYP9Pdfue85ICygGFFB5cFRERcmHp0ZnaGl/cc5pmdb/C5W1xdzXpfd6ek+koYswrUXl3tzgVTsg7F+qFSbnNhZhWiUF1tFx981wTGXjAk63CsH3JSMOtDfvD8Xl4/etIHmC01TgpmfUhdrlBd7b0zx2UdivVTTgpmfcSuN97k319p5i5XV7MUOSmY9RGrcnkA7l7o6mqWHicFsz6gUF2tkfdcPpZpY1xdzdLjpGDWB/xk6z52vfEm99T6ALOly0nBrA+oy+UZPbyGJXNcXc3S5aRgVuFeP3qStVte486rp7i6mqXOScGswrm6mpVTqklB0g5JmyRtlJRL2v5G0ouSnpO0WtLoouXvl7RV0kuSbkozNrO+oFBdbSfzpo3mnRN9uzFLXzn2FG6MiPkRUZtMPw5cGRFzgZeB+wEkzQaWAnOADwFfleR9ZRvQNubf4OU9R7jXB5itTMo+fBQRayOiJZn8GdB+0vUdwMqIOBER24GtwKJyx2dWSeoa8gyrGcQvz5uUdSg2QKSdFAJYK2m9pGWdzP9N4HvJ6ylAvmheY9L2NpKWScpJyjU3N/d6wGaV4uiJFh59tolb505i5NCarMOxASLtpLA4IhYANwPLJV3fPkPS54AW4BvtTZ28/4ziPhHxQETURkTtuHG+/4v1X995bjdHT7ay1AeYrYxSTQoR0ZQ876VQ83kRgKRPALcB90VE+4a/ESj+9k8FmtKMz6yS1eXyXDZuBAsvdXU1K5/UkoKkEZJGtr8GlgCbJX0I+EPg9og4VvSWNcBSSUMkzQBmAuvSis+skm3de5j1rx5g6TXTXF3Nyqq7cpznawKwOvlCVwMPRsRjkrYCQ4DHk3k/i4hPRsQWSfXA8xSGlZZHRGuK8ZlVrLqGPNVV4iMLfPM7K6/UkkJEbAPmddJ+eTfvWQGsSCsms77gZEsbD29wdTXLhq9oNqswT7ywx9XVLDNOCmYVZmVDnokXDuX6WT67zsrPScGsgjS98SZPv9LM3bVTXV3NMuGkYFZBVuUaicB1EywzTgpmFaKtLajP5Vl8+cWurmaZcVIwqxA/+UWhutq911ySdSg2gDkpmFWIuoY8o4bVsGS2q6tZdpwUzCrAgaMnWbtlD3dePYWhNb5jvGXHScGsAqx+ZhcnW9t8bYJlzknBLGOF6mp55k4dxbsmubqaZctJwSxjzzYe5KU9h72XYBXBScEsY3UNOxlaU8Uvz5ucdShmTgpmWTp6ooU1G5u49arJXOjqalYBnBTMMvSdTYXqah46skrhpGCWofqGPJeNHcE1011dzSqDk4JZRrbuPULu1QPc4+pqVkGcFMwyUp9rr642JetQzDo4KZhl4GRLG9/a0Mj73zme8SOHZh2OWQcnBbMMPPniHvYdOcnSRT7AbJXFScEsA3UNeSZcOITrZ7q6mlUWJwWzMtt98E2eermZuxdOo3qQ/wtaZfE30qzMHso10ubqalahnBTMyqitLajL5Xn3Oy7mkotdXc0qj5OCWRn9dNt+Gg+86SuYrWI5KZiV0cqkutpNcyZmHYpZp5wUzMrkwNGTfH/za3x4/mRXV7OK5aRgViaPbGyvrnZJ1qGYdclJwawM2qurXTVlFLMnu7qaVS4nBbMyeK7xIC++5upqVvlSTQqSdkjaJGmjpFzSdrekLZLaJNWetvz9krZKeknSTWnGZlZOdbk8Q2uquH2+q6tZZasuwzpujIh9RdObgY8A/1S8kKTZwFJgDjAZ+IGkWRHRWoYYzVJz7GShutotV05ydTWreGUfPoqIFyLipU5m3QGsjIgTEbEd2AosKm90Zr3vu5te48iJFg8dWZ+QdlIIYK2k9ZKWnWXZKUC+aLoxaXsbScsk5STlmpubezFUs3TUNexkxtgRLJoxJutQzM4q7aSwOCIWADcDyyVd382ynZWeijMaIh6IiNqIqB03zneYtMr2i+YjNOw4wD21rq5mfUOqSSEimpLnvcBquh8OagSK96+nAk3pRWeWvvqGPIOqxEcXurqa9Q2pJQVJIySNbH8NLKFwkLkra4ClkoZImgHMBNalFZ9Z2k61tvGwq6tZH5Pm2UcTgNXJLnM18GBEPCbpTuArwDjgO5I2RsRNEbFFUj3wPNACLPeZR9aXPfHCXvYdOcm9vkW29SGpJYWI2AbM66R9NYWhpM7eswJYkVZMZuVUn8szfuQQbrjCx76s7/AVzWYpeO3gcX700l7uWjjV1dWsT/G31SwFD63Pu7qa9UnluKLZUtDaFpxsaeNkaxunksfJlvbnKDy3tnEqWaYw76329mULj+BE+3T7ZxR/TtJmpduw8wDXXjaG6WNHZB2KWY84KXSirS0KG8WOjWRh43ii5e0b4JPJBvVU0ca5feN7sqW18NzdBvhtn9XZ57THcObGvO2MKzjO3+BBVdQMEjXVVdQMqmLwoCoGVxfaqquqqPJ+ZckuGTOcT71/ZtZhmPXYgEwKL+w+xKe++cxpv67f2si3prDFra5SsoFt3+CeNl1d2AgPrali5NDqwgY6aaspWvatDXX7Qwwpnq5uX0Ydy7/1OW9t5N8+XWjzxVVmNiCTwvDBg7hiwsjCr+K3bUjbN5iDqKnufMP5tg1w0ca8pmgj3LEBTz6vpqqKqipvcM2s8g3IpHDpxSP4+/sWZB2GmVnF8SixmZl1cFIwM7MOTgpmZtbBScHMzDo4KZiZWQcnBTMz6+CkYGZmHZwUzMysgyJSuIlOmUhqBl49j48YC+zrpXB6k+PqGcfVM46rZ/pjXJdGRKeFPvp0UjhfknIRUZt1HKdzXD3juHrGcfXMQIvLw0dmZtbBScHMzDoM9KTwQNYBdMFx9Yzj6hnH1TMDKq4BfUzBzMzebqDvKZiZWREnBTMz69Dvk4Kkr0naK2lzF/Ml6e8kbZX0nKSyVN8pIa4bJB2UtDF5fL4MMU2T9ENJL0jaIunTnSxT9v4qMa4s+muopHWSnk3i+vNOlsnq+1VKbGXvs2S9gyQ9I+nbnczLpL9KiCuTvkrWvUPSpmS9uU7m926fRUS/fgDXAwuAzV3MvwX4HiDgWuDnFRLXDcC3y9xXk4AFyeuRwMvA7Kz7q8S4sugvARckr2uAnwPXZt1fPYit7H2WrPf3gAc7W3dW/VVCXJn0VbLuHcDYbub3ap/1+z2FiHgaeL2bRe4A/jUKfgaMljSpAuIqu4jYHREbkteHgReAKactVvb+KjGuskv64EgyWZM8Tj9zI6vvVymxlZ2kqcCtwP/qYpFM+quEuCpZr/ZZv08KJZgC5IumG6mADU7iumT3/3uS5pRzxZKmA1dT+IVZLNP+6iYuyKC/kiGHjcBe4PGIqJj+KiE2KH+ffRn4LNDWxfys+uvLdB8XZPf/MYC1ktZLWtbJ/F7tMyeFwi7X6TL/RQVsoHB/knnAV4BHyrViSRcADwOfiYhDp8/u5C1l6a+zxJVJf0VEa0TMB6YCiyRdedoimfVXCbGVtc8k3QbsjYj13S3WSVuq/VViXJn9fwQWR8QC4GZguaTrT5vfq33mpFDIqtOKpqcCTRnF0iEiDrXv/kfEd4EaSWPTXq+kGgob3m9ExLc6WSST/jpbXFn1V9H63wB+BHzotFmZf7+6ii2DPlsM3C5pB7ASeL+k/3vaMln011njyvL7FRFNyfNeYDWw6LRFerXPnBRgDfBryRH8a4GDEbE766AkTZSk5PUiCv9W+1Nep4D/DbwQEV/sYrGy91cpcWXUX+MkjU5eDwM+CLx42mKZfL9Kia3cfRYR90fE1IiYDiwFnoyIj522WNn7q5S4svh+JesaIWlk+2tgCXD6GYu92mfV5xxtHyHpmxTOHBgrqRH4UwoH3YiIfwS+S+Ho/VbgGPAbFRLXXcBvS2oB3gSWRnKqQYoWAx8HNiVj0QB/BFxSFFcW/VVKXFn01yTg65IGUdhI1EfEtyV9siiuTL5fJcaWRZ+doUL662xxZdVXE4DVST6qBh6MiMfS7DPf5sLMzDp4+MjMzDo4KZiZWQcnBTMz6+CkYGZmHZwUzMysg5OCDSiSJkh6UNK25LYBP5V0Z0ax3CDp3UXTn5T0a1nEYtau31+nYNYuufjoEeDrEfGrSdulwO0prrM6Ilq6mH0DcAT4D+g459wsU75OwQYMSR8APh8R7+tk3iDgryhsqIcAfx8R/yTpBuDPgH3AlcB64GMREZIWAl8ELkjm/3pE7Jb0Iwob+sUUrjZ9GfhjYDCFq2DvA4YBPwNagWbgU8AHgCMR8beS5gP/CAwHfgH8ZkQcSD7758CNwGjgtyLi33upi8w8fGQDyhwKNzbrzG9RuD3ANcA1wH+SNCOZdzXwGWA2cBmwOLkX01eAuyJiIfA1YEXR542OiPdFxBeAH1OoZXA1hXvrfDYidlDY6H8pIuZ3smH/V+API2IusInCFe/tqiNiURLTn2LWizx8ZAOWpL8H3gOcBF4F5kq6K5k9CpiZzFsXEY3JezYC04E3KOw5PJ7cgmAQUHy/mbqi11OBOhXucT8Y2H6WuEZRSCpPJU1fB1YVLdJ+Q8D1SSxmvcZJwQaSLcBH2yciYnlyp8scsBP4VER8v/gNyfDRiaKmVgr/bwRsiYjruljX0aLXXwG+GBFrioajzkd7PO2xmPUaDx/ZQPIkMFTSbxe1DU+ev0/hhmc1AJJmJXel7MpLwDhJ1yXL16jrwiujgF3J608UtR+mUF70bSLiIHBA0nuTpo8DT52+nFka/CvDBozk4PCHgS9J+iyFA7xHgT+kMDwzHdiQnKXUDHy4m886mQw1/V0y3FNNoXrXlk4W/zNglaRdFA4utx+reBR4SNIdFA40F/sE8I+ShgPbyPBuoTaw+OwjMzPr4OEjMzPr4KRgZmYdnBTMzKyDk4KZmXVwUjAzsw5OCmZm1sFJwczMOvx/mj7sdgao2ccAAAAASUVORK5CYII=",
      "text/plain": [
       "<Figure size 432x288 with 1 Axes>"
      ]
     },
     "metadata": {
      "needs_background": "light"
     },
     "output_type": "display_data"
    }
   ],
   "source": [
    "generation = [1, 2, 3, 4, 5]\n",
    "plt.plot(generation,max_fitness_scores )\n",
    "plt.xlabel('Generation')\n",
    "plt.ylabel('Fitness Scores')"
   ]
  },
  {
   "cell_type": "markdown",
   "id": "29cc0f2b",
   "metadata": {},
   "source": [
    "# Experiment 3"
   ]
  },
  {
   "cell_type": "code",
   "execution_count": 39,
   "id": "70ee8d33",
   "metadata": {},
   "outputs": [],
   "source": [
    "\n",
    "max_fitness_of_generation = 0.0\n",
    "max_fitness_scores = []\n",
    "for i in range(0,5):\n",
    "    #Calling the initial Population Function\n",
    "    Initial_Population=Create_Initial_Population(10)\n",
    "    for val in range(0,10000):\n",
    "        fitnessValue = []\n",
    "        for i in range(len(Initial_Population)):\n",
    "            \n",
    "            fitness = Compute_Fitness(ItemWeights, Initial_Population[i])\n",
    "            fitnessValue.append(fitness)\n",
    "        max_fitness = max(fitnessValue)\n",
    "        if(max_fitness > max_fitness_of_generation):\n",
    "            max_fitness_of_generation = max_fitness\n",
    "        # select parents\n",
    "        selected_parents = []\n",
    "        \n",
    "        selected_parents = [Binary_Tournament_Selection(Initial_Population, fitnessValue)for _ in range(2)]\n",
    "        p1 = selected_parents[0]\n",
    "        p2 = selected_parents[1]\n",
    "        \n",
    "        global c1\n",
    "        global c2\n",
    "        c1 = []\n",
    "        c2 = []\n",
    "        c1,c2 = crossover(p1,p2)\n",
    "        Mutation_Fuction(5,c1,c2)\n",
    "        \n",
    "    \n",
    "    \n",
    "        child1 = []\n",
    "        child1[:0] = c1\n",
    "        child2 = []\n",
    "        child2[:0] = c2\n",
    "    \n",
    "        for i in range(0, len(child1)):\n",
    "            child1[i] = int(child1[i])\n",
    "        for i in range(0, len(child2)):\n",
    "            child2[i] = int(child2[i])\n",
    "\n",
    "\n",
    "        #Computing their Fitness\n",
    "        c1Fitness = Compute_Fitness(ItemWeights, child1)\n",
    "        c2Fitness = Compute_Fitness(ItemWeights, child2)\n",
    "        \n",
    "        #Generating new POPULATION\n",
    "        if(c1Fitness < max(fitnessValue)):\n",
    "            Initial_Population[fitnessValue.index(max(fitnessValue))]= child1\n",
    "                               \n",
    "        if(c2Fitness < max(fitnessValue)):\n",
    "            Initial_Population[fitnessValue.index(max(fitnessValue))] = child2\n",
    "\n",
    "        new_population = Initial_Population\n",
    "    max_fitness_scores.append(max_fitness_of_generation)"
   ]
  },
  {
   "cell_type": "code",
   "execution_count": 40,
   "id": "85e3fe65",
   "metadata": {},
   "outputs": [
    {
     "name": "stdout",
     "output_type": "stream",
     "text": [
      "[9.0, 11.5, 12.0, 12.0, 12.0]\n"
     ]
    }
   ],
   "source": [
    "print(max_fitness_scores)"
   ]
  },
  {
   "cell_type": "code",
   "execution_count": 41,
   "id": "1b082ccd",
   "metadata": {},
   "outputs": [
    {
     "data": {
      "text/plain": [
       "Text(0, 0.5, 'Fitness Scores')"
      ]
     },
     "execution_count": 41,
     "metadata": {},
     "output_type": "execute_result"
    },
    {
     "data": {
      "image/png": "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",
      "text/plain": [
       "<Figure size 432x288 with 1 Axes>"
      ]
     },
     "metadata": {
      "needs_background": "light"
     },
     "output_type": "display_data"
    }
   ],
   "source": [
    "generation = [1, 2, 3,4,5]\n",
    "plt.plot(generation,max_fitness_scores )\n",
    "plt.xlabel('Generation')\n",
    "plt.ylabel('Fitness Scores')"
   ]
  },
  {
   "cell_type": "markdown",
   "id": "e4bb9494",
   "metadata": {},
   "source": [
    "# Experiment 4"
   ]
  },
  {
   "cell_type": "code",
   "execution_count": 42,
   "id": "2f84bef6",
   "metadata": {},
   "outputs": [],
   "source": [
    "max_fitness_of_generation = 0.0\n",
    "max_fitness_scores = []\n",
    "for i in range(0,5):\n",
    "    #Calling the initial Population Function\n",
    "    Initial_Population=Create_Initial_Population(100)\n",
    "    for val in range(0,10000):\n",
    "        fitnessValue = []\n",
    "        for i in range(len(Initial_Population)):\n",
    "            \n",
    "            fitness = Compute_Fitness(ItemWeights, Initial_Population[i])\n",
    "            fitnessValue.append(fitness)\n",
    "        max_fitness = max(fitnessValue)\n",
    "        if(max_fitness > max_fitness_of_generation):\n",
    "            max_fitness_of_generation = max_fitness\n",
    "        # select parents\n",
    "        selected_parents = []\n",
    "        selected_parents = [Binary_Tournament_Selection(Initial_Population, fitnessValue)for _ in range(2)]\n",
    "        \n",
    "        p1 = selected_parents[0]\n",
    "        \n",
    "        p2 = selected_parents[1]\n",
    "        \n",
    "        global c1\n",
    "        global c2\n",
    "        c1 = []\n",
    "        c2 = []\n",
    "        c1,c2 = crossover(p1,p2)\n",
    "        Mutation_Fuction(5,c1,c2)\n",
    "        \n",
    "\n",
    "        child1 = []\n",
    "        child1[:0] = c1\n",
    "        child2 = []\n",
    "        child2[:0] = c2\n",
    "    \n",
    "        for i in range(0, len(child1)):\n",
    "            child1[i] = int(child1[i])\n",
    "        for i in range(0, len(child2)):\n",
    "            child2[i] = int(child2[i])\n",
    "\n",
    "\n",
    "        #Computing their Fitness\n",
    "        c1Fitness = Compute_Fitness(ItemWeights, child1)\n",
    "        c2Fitness = Compute_Fitness(ItemWeights, child2)\n",
    "        \n",
    "        #Generating new POPULATION\n",
    "        if(c1Fitness < max(fitnessValue)):\n",
    "            Initial_Population[fitnessValue.index(max(fitnessValue))]= child1\n",
    "                               \n",
    "        if(c2Fitness < max(fitnessValue)):\n",
    "            Initial_Population[fitnessValue.index(max(fitnessValue))] = child2\n",
    "        \n",
    "        #Printing new generated POPULATION\n",
    "        new_population = Initial_Population\n",
    "    max_fitness_scores.append(max_fitness_of_generation)"
   ]
  },
  {
   "cell_type": "code",
   "execution_count": 43,
   "id": "665aa413",
   "metadata": {},
   "outputs": [
    {
     "name": "stdout",
     "output_type": "stream",
     "text": [
      "[491.0, 491.0, 491.0, 491.0, 529.5]\n"
     ]
    }
   ],
   "source": [
    "print(max_fitness_scores)"
   ]
  },
  {
   "cell_type": "code",
   "execution_count": 44,
   "id": "279c3d3a",
   "metadata": {},
   "outputs": [
    {
     "data": {
      "text/plain": [
       "Text(0, 0.5, 'Fitness Scores')"
      ]
     },
     "execution_count": 44,
     "metadata": {},
     "output_type": "execute_result"
    },
    {
     "data": {
      "image/png": "iVBORw0KGgoAAAANSUhEUgAAAYUAAAEGCAYAAACKB4k+AAAAOXRFWHRTb2Z0d2FyZQBNYXRwbG90bGliIHZlcnNpb24zLjUuMSwgaHR0cHM6Ly9tYXRwbG90bGliLm9yZy/YYfK9AAAACXBIWXMAAAsTAAALEwEAmpwYAAAjuElEQVR4nO3de5RV5Znn8e+Pi6DIRaVEBBRUMAEVhNLWkBDNxVsnXtqAprVjd7KGZY+dTiazOtFOpi+Zca2evqTTndWOcXqSsadjSyHBeBdao8YkRk4JCogXRPQUhVKAXJR71TN/nH2qj+UpOIW1zz6n6vdZq9bZ+9377P34CvWw33fvZysiMDMzAxiQdQBmZlY7nBTMzKyTk4KZmXVyUjAzs05OCmZm1mlQ1gF8GKNHj46JEydmHYaZWV1pbm7eHBEN5bbVdVKYOHEiuVwu6zDMzOqKpDe62+bhIzMz6+SkYGZmnZwUzMysU6pJQdJ6SSslrZCUS9r+u6QXkrYlkk4s2f8WSWslvSzp4jRjMzOzD6rGlcKFETEjIhqT9b+JiLMiYgbwAPBnAJKmAtcC04BLgNskDaxCfGZmlqj68FFE7ChZHQYUK/JdAdwdEXsj4nVgLXButeMzM+vP0k4KASyR1CxpfrFR0q2S8sB1JFcKwDggX/LdlqTtfSTNl5STlGtra0sxdDOz/iftpDA7ImYClwI3SZoDEBHfjogJwE+AP0r2VZnvf6Cud0TcERGNEdHY0FD22Qszsz7tR0+/zpLVb6Vy7FSTQkS0Jp+bgMV8cDjoLuDqZLkFmFCybTzQmmZ8Zmb15t29B/jbJS/z2JpNqRw/taQgaZik4cVl4CJglaTJJbtdDryULN8HXCtpiKRJwGTg2bTiMzOrRw+9sJFd+9qZd86EQ+98GNIsczEGWCypeJ67IuIRSYsknQ50AG8ANwJExGpJTcCLwAHgpohoTzE+M7O6syCX59SGYcw8aVQqx08tKUTEOmB6mfary+xe3HYrcGtaMZmZ1bO1m96l+Y13+NPLPkLyD+5e5yeazczqxMJcnkEDxFVnj0/tHE4KZmZ1YH97B4ue28CnPnI8DcOHpHYeJwUzszrw85c2sfndvcxrTGeCuchJwcysDjTlWmgYPoQLTk/3+SwnBTOzGrdpxx5+/vImrp45nkED0/217aRgZlbjFj23gfaOYF5jehPMRU4KZmY1LCJYmMtzzsRjOKXh6NTP56RgZlbDcm+8w7rN76U+wVzkpGBmVsOaluUZdsRALjtzbFXO56RgZlaj3t17gAdXbuTz009k2JA0qxL9BycFM7Ma9eALrakWvyvHScHMrEYtWJbntOOP5uwJo6p2TicFM7MatHbTTp57cxvXNE5IrfhdOU4KZmY1qCnXUih+N/MDbyVOlZOCmVmN2d/ewU+fa+HTHz2e0UenV/yuHCcFM7Ma8/hLm9j87r6qPZtQKtV7nCStB3YC7cCBiGiU9DfA54F9wGvAH0TENkkTgTXAy8nXn4mIG9OMz8ysFi3M5Tl++BA+OSXd4nflVONK4cKImBERjcn6UuCMiDgLeAW4pWTf15J9ZzghmFl/VCh+18bVs9IvfldO1c8YEUsi4kCy+gyQfoUnM7M6cc9zLUnxu+oPHUH6SSGAJZKaJc0vs/3LwMMl65MkLZf0pKRPlDugpPmScpJybW1tacRsZpaJQvG7Fs6deCyTRg/LJIa0k8LsiJgJXArcJGlOcYOkbwMHgJ8kTRuBkyLibOAbwF2SRnQ9YETcERGNEdHY0FD98TYzs7QsW/8Or29+r6pPMHeValKIiNbkcxOwGDgXQNINwOeA6yIikn32RsSWZLmZwiT0lDTjMzOrJU25PEcPGcRlZ56QWQypJQVJwyQNLy4DFwGrJF0CfAu4PCJ2lezfIGlgsnwKMBlYl1Z8Zma1ZOee/Tz4wkY+P30sRx1RneJ35aR55jHA4uTx7EHAXRHxiKS1wBBgabKteOvpHOC7kg5QuIX1xojYmmJ8ZmY148EXNrJ7f3tmE8xFqSWFiFgHTC/Tflo3+y8CFqUVj5lZLVuQyzP5+KOZUcXid+X4iWYzs4y9+vZOlr+5jWvOqW7xu3KcFMzMMtaUyzNogLjy7OoWvyvHScHMLEOF4ncb+MxHx1S9+F05TgpmZhl6bM0mtry3j3nn1EZxBycFM7MMNeXyjBkxhDmTa+NhXCcFM7OMvL1jD0+8vImrZ2ZT/K6c2ojCzKwfuqe5hY4g82cTSjkpmJlloFD8Ls+5k45lYkbF78pxUjAzy8Czr29l/ZZdXFNDVwngpGBmlommXEtS/G5s1qG8j5OCmVmV7dyzn4dWbuTz00/kyCMGZh3O+zgpmJlV2QNJ8btrMnxvQnecFMzMqmzBsjxTxhzN9PEjsw7lA5wUzMyq6JW3d7Iiv415jdkXvyvHScHMrIqaluUZPFBcVQPF78pxUjAzq5J9Bzr46fJC8bvjaqD4XTlOCmZmVfL4S2+z9b19NfUEc1epJgVJ6yWtlLRCUi5p+xtJL0l6QdJiSaNK9r9F0lpJL0u6OM3YzMyqbcGyPCeMGMqcKbVR/K6calwpXBgRMyKiMVlfCpwREWcBrwC3AEiaClwLTAMuAW6TVFs38JqZHaa3tu/hyVfauHrWOAYOqL0J5qKqDx9FxJKIOJCsPgMUi4hfAdwdEXsj4nVgLXButeMzM0vDoucKxe/mzqrdoSNIPykEsERSs6T5ZbZ/GXg4WR4H5Eu2tSRt7yNpvqScpFxbW1uvB2xm1tsigqZcnt+qseJ35aSdFGZHxEzgUuAmSXOKGyR9GzgA/KTYVOb78YGGiDsiojEiGhsaandczsys6Devb+WNLbtq8gnmrlJNChHRmnxuAhaTDAdJugH4HHBdRBR/8bcApT02HmhNMz4zs2poyuUZPmQQl55RW8XvykktKUgaJml4cRm4CFgl6RLgW8DlEbGr5Cv3AddKGiJpEjAZeDat+MzMqmFHsfjdjNorflfOoBSPPQZYnDzGPQi4KyIekbQWGAIsTbY9ExE3RsRqSU3AixSGlW6KiPYU4zMzS90Dz29kz/6OmntvQndSSwoRsQ6YXqb9tIN851bg1rRiMjOrtgW5PKePGc5ZNVj8rhw/0WxmlpKX39rJ8/ltzDunNovfleOkYGaWkqZcbRe/K8dJwcwsBfsOdLB4+QY+O3UMxw47IutwKuakYGaWgsfWFIrfza2TCeYiJwUzsxQsyCXF7ybX10O2TgpmZr1s4/bdPPVKG1+YNb6mi9+V46RgZtbLFjUnxe8axx965xrjpGBm1os6OoKmXAvnnXIsJx9X28XvynFSMDPrRb95fStvbq2P4nflOCmYmfWihbk8w4fWR/G7cg6ZFJLCdgOS5SmSLpc0OP3QzMzqy449+3lo1UYun34iQwfXfvG7ciq5UngKGCppHPAY8AfA/00zKDOzenT/862F4nd1OnQElSUFJSWufwf4QURcBUxNNywzs/rTtCzPR04Yzpnj6qP4XTkVJQVJ5wPXAQ8mbWmW3DYzqzsvvbWD51u2M6+xforflVNJUvg6cAuwOHnnwSnAz1ONysyszjQta2HwQHFlHRW/K+eQ/+KPiCeBJ5O3pxXfk/DHaQdmZlYv9h5oZ/HyFi6aekJdFb8rp5K7j86X9CKwJlmfLum21CMzM6sTj63ZxDu79tflE8xdVTJ89H3gYmALQEQ8D8yp5OCS1ktaKWmFpFzSNlfSakkdkhpL9p0oaXey7wpJt/f4v8bMLAMLluUZO3Ion6iz4nflVDRhHBH5LhMnPXl38oURsblkfRWFO5l+WGbf1yJiRg+ObWaWqdZtu3nq1Tb+6MLT6q74XTmVJIW8pI8BIekICvMJaw73hBFRHIY63EOYmdWMRc0tRMDcWfX7bEKpSoaPbgRuAsYBLcCMZL0SASyR1CxpfgX7T5K0XNKTkj5RbgdJ8yXlJOXa2toqDMPMrPd1dAQLm1v42KnHcdJxR2UdTq846JWCpIHA9yPiusM8/uyIaJV0PLBU0ksR8VQ3+24EToqILZJmAfdKmhYRO0p3iog7gDsAGhsb4zDjMjP70J55fQtvbt3FNz47JetQes1BrxQioh1oSIaNeiwiWpPPTcBi4NyD7Ls3IoqT2c3Aa0Df6Wkz63MW5loYPnQQl5xxQtah9JpK5hTWA7+UdB/wXrExIr53sC8lzzUMiIidyfJFwHcPsn8DsDUi2pMH5CYD6yqIz8ys6rbv3s9DKzcyt3F83Ra/K6eSpNCa/AwAhvfg2GOAxcmE8iDgroh4RNJVwA+ABuBBSSsi4mIKt7l+V9IBCnc33RgRW3twPjOzqrn/+Vb2HujgmsaTsg6lV1XyRPNfAkgaXliNdys5cPLk8/Qy7YspDCV1bV8ELKrk2GZmWWvKFYrfnTFuRNah9KpKnmg+Q9JyCs8XrE7uJJqWfmhmZrVpzcYdvNCynWvOqe/id+VUckvqHcA3IuLkiDgZ+K/A/043LDOz2tWUy3PEwAFcOaO+i9+VU0lSGBYRnVVRI+IJoP7eRm1m1gsKxe828NlpYzimzovflVPJRPM6Sf8N+H/J+vXA6+mFZGZWu/79xU1s27WfeY194wnmriq5UvgyhTuFfpr8jKbwSk4zs35nQS7PiSOH8vHTRmcdSioqufvoHfz+BDMzWrft5hevtvHVPlL8rpxK7j5aKmlUyfoxkh5NNSozsxp0T7H4XR8dOoLKho9GR8S24kpy5XB8ahGZmdWgQvG7PLNPO44Jx/aN4nflVJIUOiR1PrIn6WQK1U/NzPqNZ9ZtIb91d5+dYC6q5O6jbwNPS3oyWZ8DVFIG28ysz2jK5RkxdBAXT+s7xe/KqWSi+RFJM4Hzkqb/0uVNamZmfdr23ft5eNVbzGuc0KeK35XT7fCRpJMljQRIksB7wGeBLx1uKW0zs3p034oNheJ35/TtoSM4+JxCE8mTy5JmAAuBNykUubst9cjMzGpEU66Fj44dwbQT+1bxu3IONnx0ZPElORSeYv5RRPydpAHAitQjMzOrAS+27mDlhu38xeen9rnid+Uc7Eqh9L/+U8BjABHRkWpEZmY1pFj87oo+WPyunINdKTwuqYnCu5OPAR4HkDQW2FeF2MzMMrX3QDv3rtjARX20+F05B7tS+DqFWkfrgY9HxP6k/QQKt6kekqT1klZKWiEpl7TNlbRaUoekxi773yJpraSXJV3c0/8YM7PetPTFt/t08btyur1SiIgA7i7TvryH57iwyy2sq4DfAX5YupOkqcC1wDTgRODfJU2JiPYens/MrFcsWJZn3Kgjmd1Hi9+VU8kTzb0qItZExMtlNl0B3B0ReyPidWAtcG51ozMzK9iwbTdPr93M1bPG99nid+WknRQCWJK8wvNQT0GPA/Il6y1J2/tImi8pJynX1tbWi6Gamf2He3ItAMydNT7jSKqrR0khqZB6Vg++MjsiZgKXAjdJmnOww5dp+0CNpYi4IyIaI6KxoaGhB6GYmVWms/jdqaP7dPG7ciopnf2EpBGSjgWeB34s6XuVHLz4nENEbAIWc/DhoBagdDZnPNDazb5mZqn59bottLyzm7mN/esqASq7UhgZETsoTA7/OCJmAZ851JckDZM0vLgMXERhkrk79wHXShoiaRIwGXi2gvjMzHrVgmX9o/hdOZUkhUHJswnzgAd6cOwxFKqrPk/hl/uDSXG9qyS1AOcDDxZf2BMRqymU1ngReAS4yXcemVm1bd+1n0dWv8WVZ4/r88XvyqmkdPZ3gUeBpyNimaRTgFcP9aWIWEehTlLX9sUUhpLKfedW4NYKYjIzS8XPnt/AvgMd/erZhFKVlM5eSKEYXnF9HXB1mkGZmWWlKZdn6tgRnDFuZNahZKKSiea/TiaaB0t6TNJmSddXIzgzs2pa3bqdVRt29IsS2d2pZE7homSi+XMU7hCaAvxJqlGZmWVgYa6FIwYN4IoZJ2YdSmYqSQqDk8/LgH+LiK0pxmNmlok9+9tZvHwDF087gVFH9Y/id+VUMtF8v6SXgN3Af5bUAOxJNywzs+pa+uLbbN+9n3n98NmEUoe8UoiImyncPtqYVErdRaFOkZlZn9GUS4rfndp/it+VU8lE81HATcD/SppOBBq7/4aZWX1peWcXT6/dzNzG8QzoR8XvyqlkTuHHFF6q87FkvQX4H6lFZGZWZfc0F4rffaGfFb8rp5KkcGpE/DWwHyAidlO+eJ2ZWd3p6AgW5lr4+GmjGX9M/yp+V04lSWGfpCNJKpZKOhXYm2pUZmZV8qvXtrBh227m9tMnmLuq5O6jP6dQi2iCpJ8As4HfTzMoM7NqWZDLM/LIwVw0dUzWodSESspcLJX0HHAehWGjr3V5vaaZWV3atmsfj65+iy+eM6FfFr8rp5IrBYChwDvJ/lMlERFPpReWmVn6fraitVD8rh+XtejqkElB0v8ErgFWAx1JcwBOCmZW15pyeaadOIJpJ/bP4nflVHKlcCVwekR4ctnM+oxVG7azunUH371iWtah1JRK7j5ax3/UPzIz6xMW5vKF4nfTx2UdSk2p5EphF7BC0mOU3IoaEX+cWlRmZinas7+de1e0csm0Exh5lP/NW6qSpHBf8lMqKjm4pPXATqAdOBARjZKOBRYAE4H1wLyIeEfSRGAN8HLy9Wci4sZKzmNm1hNLOovfeYK5q0qSwqiI+IfSBklf68E5LuxyC+vNwGMR8VeSbk7Wv5Vsey0iZvTg2GZmPda0LM/4Y47kY6cel3UoNaeSOYUbyrT9/oc45xXAncnynRQmss3MqiK/dRe/fG0zc2dN6PfF78rp9kpB0heB3wUmSSodPhoObKnw+AEskRTADyPiDmBMRGwEiIiNko4v2X+SpOXADuA7EfGLMnHNB+YDnHTSSRWGYWZW0Fn8rp+/N6E7Bxs++hWwERgN/F1J+07ghQqPPzsiWpNf/EuTl/V0ZyNwUkRskTQLuFfStORVoJ2SxHIHQGNjY0VzG2ZmAO0dwT3NheJ340YdmXU4NanbpBARbwBvUHjBzmGJiNbkc5OkxcC5wNuSxiZXCWOBTck+e0nuboqIZkmvUXgfdO5wz29mVupXr21mw7bd3HzpR7IOpWZ1O6cg6enkc6ekHSU/OyXt6O57Jd8fJml4cRm4CFhF4U6m4jzFDcDPkn0aJA1Mlk8BJlN4RsLMrFcsWJZn1FGDuWiai99152DDR9cBRMTwwzz2GGCxpOJ57oqIRyQtA5okfQV4E5ib7D8H+K6kAxRuYb0xIrYe5rnNzN5n2659LFn9Nr/7WycxZJCL33XnYElhMTATQNKiiLi6JweOiHXA9DLtW4BPl2lfBCzqyTnMzCp17/IN7Gvv8LMJh3CwW1JL79U6Je1AzMzS1JRr4YxxI5h64oisQ6lpB0sK0c2ymVldWbVhOy9u3ME1vko4pIMNH01PJpQFHFkyuSwgIsLp1szqQlNS/O5yF787pIPdkuqZGDOre3v2t3Pv8g1ceoaL31WikjIXZmZ169HVb7FjzwEPHVXIScHM+rSmXJ4Jxx7Jeae4+F0lnBTMrM/Kb93FL9ducfG7HnBSMLM+a2FzCxJcPcvF7yrlpGBmfVJ7R3BPLs8nJje4+F0POCmYWZ/0y7Wbad2+h3kukd0jTgpm1ictyBWK3312qovf9YSTgpn1Oe+8t4+lq9/myhnjXPyuh5wUzKzPuXeFi98dLicFM+tTIoIFy/KcOW6ki98dBicFM+tTVm3YwUtv7WTeOb5KOBxOCmbWpzTl8gwZNIDLp5+YdSh1yUnBzPqMPfvbuXdFUvzuSBe/OxypJgVJ6yWtlLRCUi5pO1bSUkmvJp/HlOx/i6S1kl6WdHGasZlZ3/Po6rfYueeAh44+hGpcKVwYETMiojFZvxl4LCImA48l60iaClwLTAMuAW6T5HvJzKxiC5Ylxe8mufjd4cpi+OgK4M5k+U7gypL2uyNib0S8DqwFzq1+eGZWj97csotfvbaFeS5+96GknRQCWCKpWdL8pG1MRGwESD6PT9rHAfmS77Ykbe8jab6knKRcW1tbiqGbWT25pznv4ne94GCv4+wNsyOiVdLxwFJJLx1k33Kp/QPvho6IO4A7ABobG/3uaDOjvSNY2NzCnMkNnOjidx9KqlcKEdGafG4CFlMYDnpb0liA5HNTsnsLUDo7NB5oTTM+M+sbnl67mY3b9/gJ5l6QWlKQNEzS8OIycBGwCrgPuCHZ7QbgZ8nyfcC1koZImgRMBp5NKz4z6zualuU55qjBfGbq8Yfe2Q4qzeGjMcBiScXz3BURj0haBjRJ+grwJjAXICJWS2oCXgQOADdFRHuK8ZlZH7D1vX0sefEtrj/vZBe/6wWpJYWIWAdML9O+Bfh0N9+5Fbg1rZjMrO+5d/kG9rcH1/jZhF7hJ5rNrG5FBE25PGeNH8lHTnDxu97gpGBmdWvlhu2F4neeYO41TgpmVreKxe8+7+J3vcZJwczq0p797fxsRSuXnTnWxe96kZOCmdWlh1dtLBS/89BRr3JSMLO61LSshZOOPYrfmnRs1qH0KU4KZlZ33tjyHr9et4V5jeNd/K6XOSmYWd25p7mFAS5+lwonBTOrK+0dwT3NLcyZ0sDYkS5+19ucFMysrvzi1TYXv0uRk4KZ1ZWmXJ5jhx3BZz46JutQ+iQnBTOrG1vf28fSF9/myhnjOGKQf32lwb1qZnVjsYvfpc5JwczqQkSwMJdn+viRnH7C8KzD6bOcFMysLrzQkhS/81VCqpwUzKwuNOXyDB3s4ndpSz0pSBooabmkB5L16ZJ+LWmlpPsljUjaJ0raLWlF8nN72rGZWX3Yva+d+1a0ctkZYxkx1MXv0lSNK4WvAWtK1v8ZuDkizgQWA39Ssu21iJiR/NxYhdjMrA48vGojO/ce8NBRFaSaFCSNB36bQiIoOh14KlleClydZgxmVv+acnlOPs7F76oh7SuF7wPfBDpK2lYBlyfLc4HS1D8pGWp6UtInyh1Q0nxJOUm5tra2NGI2sxryxpb3eGbdVuY1TkBy8bu0pZYUJH0O2BQRzV02fRm4SVIzMBzYl7RvBE6KiLOBbwB3FecbSkXEHRHRGBGNDQ0NaYVvZjViYS4pfjfTxe+qYVCKx54NXC7pMmAoMELSv0bE9cBFAJKmUBheIiL2AnuT5WZJrwFTgFyKMZpZDSsWv/vklAZOGDk063D6hdSuFCLilogYHxETgWuBxyPieknHA0gaAHwHuD1Zb5A0MFk+BZgMrEsrPjOrfU+92sZbO1z8rpqyeE7hi5JeAV4CWoEfJ+1zgBckPQ/cA9wYEVsziM/MakTTskLxu0+7+F3VpDl81CkingCeSJb/AfiHMvssAhZVIx4zq31b3t3Lv695my+dP9HF76rIPW1mNalY/M5DR9XlpGBmNSciaMrlmT5hlIvfVZmTgpnVnOdbtvPK2+9yja8Sqs5JwcxqzoJlxeJ3Y7MOpd9xUjCzmrJ7Xzv3P9/KZWeOZbiL31Wdk4KZ1ZSHVm7k3b0HPHSUEScFM6spTbk8E487inNd/C4TTgpmVjPWb36P37y+lbkufpcZJwUzqxkLm/MufpcxJwUzqwkH2ju4p7mFC04/3sXvMuSkYGY14RevbubtHXuZ1+irhCw5KZhZTViwLM9xw47gUx9x8bssOSmYWeaKxe+uOnuci99lzL1vZplbvHwDBzqCeef42YSsVaV0dq156a0dfPWu5VmHYWaJjdv3MGPCKKaMcfG7rPXLpDB00EAmjzk66zDMLDFlzHB+7/yTsw7D6KdJYeLoYdx23ayswzAzqzmpzylIGihpuaQHkvXpkn4taaWk+yWNKNn3FklrJb0s6eK0YzMzs/erxkTz14A1Jev/DNwcEWcCi4E/AZA0FbgWmAZcAtwmaWAV4jMzs0SqSUHSeOC3KSSCotOBp5LlpcDVyfIVwN0RsTciXgfWAuemGZ+Zmb1f2lcK3we+CXSUtK0CLk+W5wLFe9DGAfmS/VqStveRNF9STlKura2t1wM2M+vPUksKkj4HbIqI5i6bvgzcJKkZGA7sK36lzGHiAw0Rd0REY0Q0NjQ09GrMZmb9XZp3H80GLpd0GTAUGCHpXyPieuAiAElTKAwvQeHKoPTJlfFAa4rxmZlZF6ldKUTELRExPiImUphAfjwirpd0PICkAcB3gNuTr9wHXCtpiKRJwGTg2bTiMzOzD8qizMUXJb0CvEThSuDHABGxGmgCXgQeAW6KiPYM4jMz67cU8YFh+7ohqQ1440McYjSwuZfC6U2Oq2ccV884rp7pi3GdHBFlJ2XrOil8WJJyEdGYdRxdOa6ecVw947h6pr/F5SqpZmbWyUnBzMw69fekcEfWAXTDcfWM4+oZx9Uz/Squfj2nYGZm79ffrxTMzKyEk4KZmXXq80lB0o8kbZK0qpvtkvSPyXscXpA0s0biukDSdkkrkp8/q0JMEyT9XNIaSaslfa3MPlXvrwrjyqK/hkp6VtLzSVx/WWafrP58VRJb1fssOe/73rHSZVsm/VVBXJn0VXLu9cn7Z1ZIypXZ3rt9FhF9+geYA8wEVnWz/TLgYQoF+c4DflMjcV0APFDlvhoLzEyWhwOvAFOz7q8K48qivwQcnSwPBn4DnJd1f/Ugtqr3WXLebwB3lTt3Vv1VQVyZ9FVy7vXA6INs79U+6/NXChHxFLD1ILtcAfxLFDwDjJI0tgbiqrqI2BgRzyXLOym8HKlr+fKq91eFcVVd0gfvJquDk5+ud25k9eerktiqTuXfsVIqk/6qIK5a1qt91ueTQgUqeo9DRs5PLv8fljStmieWNBE4m8K/MEtl2l8HiQsy6K9kyGEFsAlYGhE1018VxAbV77Pv88F3rJTKqr++z8Hjguz+PgawRFKzpPlltvdqnzkpVPgehww8R6E+yXTgB8C91TqxpKOBRcDXI2JH181lvlKV/jpEXJn0V0S0R8QMCqXez5V0RpddMuuvCmKrap+p+3esvG+3Mm2p9leFcWX29xGYHREzgUspvItmTpftvdpnTgo1+h6HiNhRvPyPiIeAwZJGp31eSYMp/OL9SUT8tMwumfTXoeLKqr9Kzr8NeILC+8VLZf7nq7vYMuiz4jtW1gN3A5+S9K9d9smivw4ZV5Z/viKiNfncROG99l1fU9yrfeakUHiPw5eSGfzzgO0RsTHroCSdIEnJ8rkU/l9tSfmcAv4PsCYivtfNblXvr0riyqi/GiSNSpaPBD5DoSR8qUz+fFUSW7X7LLp5x0qX3areX5XElcWfr+RcwyQNLy5TeEFZ1zsWe7XP0nzzWk2Q9G8U7hwYLakF+HMKk25ExO3AQxRm79cCu4A/qJG4vgD8oaQDwG7g2khuNUjRbOD3gJXJWDTAnwInlcSVRX9VElcW/TUWuFPSQAq/JJoi4gFJN5bElcmfrwpjy6LPPqBG+utQcWXVV2OAxUk+GgTcFRGPpNlnLnNhZmadPHxkZmadnBTMzKyTk4KZmXVyUjAzs05OCmZm1slJwfoVSWMk3SVpXVI24NeSrsoolgskfaxk/UZJX8oiFrOiPv+cgllR8vDRvcCdEfG7SdvJwOUpnnNQRBzoZvMFwLvAr6DznnOzTPk5Bes3JH0a+LOI+GSZbQOBv6Lwi3oI8E8R8UNJFwB/AWwGzgCagesjIiTNAr4HHJ1s//2I2CjpCQq/6GdTeNr0FeA7wBEUnoK9DjgSeAZoB9qArwKfBt6NiL+VNAO4HTgKeA34ckS8kxz7N8CFwCjgKxHxi17qIjMPH1m/Mo1CYbNyvkKhPMA5wDnAf5I0Kdl2NvB1YCpwCjA7qcX0A+ALETEL+BFwa8nxRkXEJyPi74CnKbzL4GwKtXW+GRHrKfzS//uImFHmF/u/AN+KiLOAlRSeeC8aFBHnJjH9OWa9yMNH1m9J+ifg48A+4A3gLElfSDaPBCYn256NiJbkOyuAicA2ClcOS5MSBAOB0nozC0qWxwMLVKhxfwTw+iHiGkkhqTyZNN0JLCzZpVgQsDmJxazXOClYf7IauLq4EhE3JZUuc8CbwFcj4tHSLyTDR3tLmtop/L0RsDoizu/mXO+VLP8A+F5E3FcyHPVhFOMpxmLWazx8ZP3J48BQSX9Y0nZU8vkohYJngwEkTUmqUnbnZaBB0vnJ/oPV/YtXRgIbkuUbStp3Uni96PtExHbgHUmfSJp+D3iy635mafC/MqzfSCaHrwT+XtI3KUzwvgd8i8LwzETgueQupTbgyoMca18y1PSPyXDPIApv71pdZve/ABZK2kBhcrk4V3E/cI+kKyhMNJe6Abhd0lHAOjKsFmr9i+8+MjOzTh4+MjOzTk4KZmbWyUnBzMw6OSmYmVknJwUzM+vkpGBmZp2cFMzMrNP/B2EFd1B59CxqAAAAAElFTkSuQmCC",
      "text/plain": [
       "<Figure size 432x288 with 1 Axes>"
      ]
     },
     "metadata": {
      "needs_background": "light"
     },
     "output_type": "display_data"
    }
   ],
   "source": [
    "generation = [1, 2, 3, 4, 5]\n",
    "plt.plot(generation,max_fitness_scores )\n",
    "plt.xlabel('Generation')\n",
    "plt.ylabel('Fitness Scores')"
   ]
  },
  {
   "cell_type": "markdown",
   "id": "a28152ca",
   "metadata": {},
   "source": [
    "# Experiment 5"
   ]
  },
  {
   "cell_type": "code",
   "execution_count": 45,
   "id": "c439c6ad",
   "metadata": {},
   "outputs": [],
   "source": [
    "max_fitness_of_generation = 0.0\n",
    "max_fitness_scores = []\n",
    "\n",
    "for i in range(0,5):\n",
    "    \n",
    "    #Calling the initial Population Function\n",
    "    Initial_Population=Create_Initial_Population(10)\n",
    "    \n",
    "    for val in range(0,10000):\n",
    "        fitnessValue = []\n",
    "        for i in range(len(Initial_Population)):\n",
    "            \n",
    "            fitness = Compute_Fitness(ItemWeights, Initial_Population[i])\n",
    "            fitnessValue.append(fitness)\n",
    "        max_fitness = max(fitnessValue)\n",
    "        \n",
    "        if(max_fitness > max_fitness_of_generation):\n",
    "            max_fitness_of_generation = max_fitness\n",
    "            \n",
    "        # select parents\n",
    "        selected_parents = []\n",
    "        selected_parents = [Binary_Tournament_Selection(Initial_Population, fitnessValue)for _ in range(2)]\n",
    "        \n",
    "        p1 = selected_parents[0]\n",
    "        \n",
    "        p2 = selected_parents[1]\n",
    "        global c1\n",
    "        global c2\n",
    "        c1 = []\n",
    "        c2 = []\n",
    "    \n",
    "        \n",
    "        c1,c2 = Mutation_Fuction(5,p1,p2)\n",
    "        \n",
    "        child1 = []\n",
    "        child1[:0] = c1\n",
    "        child2 = []\n",
    "        child2[:0] = c2\n",
    "    \n",
    "        for i in range(0, len(child1)):\n",
    "            child1[i] = int(child1[i])\n",
    "        for i in range(0, len(child2)):\n",
    "            child2[i] = int(child2[i])\n",
    "\n",
    "\n",
    "        #Computing their Fitness\n",
    "        c1Fitness = Compute_Fitness(ItemWeights, child1)\n",
    "        c2Fitness = Compute_Fitness(ItemWeights, child2)\n",
    "        \n",
    "        #Generating new POPULATION\n",
    "        if(c1Fitness < max(fitnessValue)):\n",
    "            Initial_Population[fitnessValue.index(max(fitnessValue))]= child1\n",
    "                               \n",
    "        if(c2Fitness < max(fitnessValue)):\n",
    "            Initial_Population[fitnessValue.index(max(fitnessValue))] = child2\n",
    "        \n",
    "\n",
    "        new_population = Initial_Population\n",
    "    max_fitness_scores.append(max_fitness_of_generation)"
   ]
  },
  {
   "cell_type": "code",
   "execution_count": 46,
   "id": "983135f7",
   "metadata": {},
   "outputs": [
    {
     "name": "stdout",
     "output_type": "stream",
     "text": [
      "[19.0, 19.5, 20.0, 20.0, 20.0]\n"
     ]
    }
   ],
   "source": [
    "print(max_fitness_scores)"
   ]
  },
  {
   "cell_type": "code",
   "execution_count": 47,
   "id": "1b310a19",
   "metadata": {},
   "outputs": [
    {
     "data": {
      "text/plain": [
       "Text(0, 0.5, 'Fitness Scores')"
      ]
     },
     "execution_count": 47,
     "metadata": {},
     "output_type": "execute_result"
    },
    {
     "data": {
      "image/png": "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",
      "text/plain": [
       "<Figure size 432x288 with 1 Axes>"
      ]
     },
     "metadata": {
      "needs_background": "light"
     },
     "output_type": "display_data"
    }
   ],
   "source": [
    "generation = [1, 2, 3, 4, 5]\n",
    "plt.plot(generation,max_fitness_scores )\n",
    "plt.xlabel('Generation')\n",
    "plt.ylabel('Fitness Scores')"
   ]
  },
  {
   "cell_type": "markdown",
   "id": "ad521739",
   "metadata": {},
   "source": [
    "# Experiment 6"
   ]
  },
  {
   "cell_type": "code",
   "execution_count": 48,
   "id": "c28d712e",
   "metadata": {},
   "outputs": [],
   "source": [
    "max_fitness_of_generation = 0.0\n",
    "max_fitness_scores = []\n",
    "for i in range(0,5):\n",
    "    #Calling the initial Population Function\n",
    "    Initial_Population=Create_Initial_Population(10)\n",
    "    for val in range(0,10000):\n",
    "        fitnessValue = []\n",
    "        for i in range(len(Initial_Population)):\n",
    "            \n",
    "            fitness = Compute_Fitness(ItemWeights, Initial_Population[i])\n",
    "            fitnessValue.append(fitness)\n",
    "        max_fitness = max(fitnessValue)\n",
    "        if(max_fitness > max_fitness_of_generation):\n",
    "            max_fitness_of_generation = max_fitness\n",
    "        # select parents\n",
    "        selected_parents = []\n",
    "        \n",
    "        selected_parents = [Binary_Tournament_Selection(Initial_Population, fitnessValue)for _ in range(2)]\n",
    "        \n",
    "        p1 = selected_parents[0]\n",
    "        \n",
    "        p2 = selected_parents[1]\n",
    "        global c1\n",
    "        global c2\n",
    "        c1 = []\n",
    "        c2 = []\n",
    "        \n",
    "        c1,c2 = crossover(p1,p2)\n",
    "        \n",
    "        child1 = []\n",
    "        child1[:0] = c1\n",
    "        child2 = []\n",
    "        child2[:0] = c2\n",
    "    \n",
    "        for i in range(0, len(child1)):\n",
    "            child1[i] = int(child1[i])\n",
    "        for i in range(0, len(child2)):\n",
    "            child2[i] = int(child2[i])\n",
    "\n",
    "\n",
    "        #Computing their Fitness\n",
    "        c1Fitness = Compute_Fitness(ItemWeights, child1)\n",
    "        c2Fitness = Compute_Fitness(ItemWeights, child2)\n",
    "        \n",
    "        #Generating new POPULATION\n",
    "        if(c1Fitness < max(fitnessValue)):\n",
    "            Initial_Population[fitnessValue.index(max(fitnessValue))]= child1\n",
    "                               \n",
    "        if(c2Fitness < max(fitnessValue)):\n",
    "            Initial_Population[fitnessValue.index(max(fitnessValue))] = child2\n",
    "\n",
    "        new_population = Initial_Population\n",
    "    max_fitness_scores.append(max_fitness_of_generation)"
   ]
  },
  {
   "cell_type": "code",
   "execution_count": 49,
   "id": "f8cd339a",
   "metadata": {},
   "outputs": [
    {
     "name": "stdout",
     "output_type": "stream",
     "text": [
      "[11.0, 13.5, 14.0, 14.0, 14.0]\n"
     ]
    }
   ],
   "source": [
    "print(max_fitness_scores)"
   ]
  },
  {
   "cell_type": "code",
   "execution_count": 50,
   "id": "7c71249a",
   "metadata": {},
   "outputs": [
    {
     "data": {
      "text/plain": [
       "Text(0, 0.5, 'Fitness Scores')"
      ]
     },
     "execution_count": 50,
     "metadata": {},
     "output_type": "execute_result"
    },
    {
     "data": {
      "image/png": "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",
      "text/plain": [
       "<Figure size 432x288 with 1 Axes>"
      ]
     },
     "metadata": {
      "needs_background": "light"
     },
     "output_type": "display_data"
    }
   ],
   "source": [
    "generation = [1, 2, 3, 4, 5]\n",
    "plt.plot(generation,max_fitness_scores )\n",
    "plt.xlabel('Generation')\n",
    "plt.ylabel('Fitness Scores')"
   ]
  },
  {
   "cell_type": "markdown",
   "id": "7099ad59",
   "metadata": {},
   "source": [
    "# Performing all the Experiments on instance 2\n"
   ]
  },
  {
   "cell_type": "code",
   "execution_count": 27,
   "id": "98234747",
   "metadata": {},
   "outputs": [],
   "source": [
    "#Instance2: number of items n=200, items weights option 2, number of containers c=100"
   ]
  },
  {
   "cell_type": "code",
   "execution_count": 51,
   "id": "a7c12738",
   "metadata": {},
   "outputs": [
    {
     "name": "stdout",
     "output_type": "stream",
     "text": [
      "Please enter the number of containers(c): 100\n",
      "Please enter the number of items(𝑛): 200\n",
      "\n",
      "Please choose one of the following options:\n",
      "[1] for weight i/2\n",
      "[2] for weight i^2/2 \n",
      "Your option:  2\n",
      "\n",
      "Search Space: \n",
      "126765060022822940149670320537600000000000000000000000000000000000000000000000000000000000000000000000000000000000000000000000000000000000000000000000000000000000000000000000000000000000000000000000000000000000000000000000000000000\n"
     ]
    }
   ],
   "source": [
    "Containers = int(input(\"Please enter the number of containers(c): \"))\n",
    "Items = int(input(\"Please enter the number of items(𝑛): \"))\n",
    "\n",
    "#list of Item weights\n",
    "ItemWeights=[]\n",
    "\n",
    "#taking user option to set weights\n",
    "opt = int(input(\"\\nPlease choose one of the following options:\\n[1] for weight i/2\\n[2] for weight i^2/2 \\nYour option:  \"))\n",
    "if opt == 1:\n",
    "    for x in range(int(Items)):\n",
    "        i = x+1\n",
    "        #Option \"1\" for weights (i/2)\n",
    "        ItemWeights.append(i/2) \n",
    "if opt == 2:\n",
    "    for x in range(int(Items)):\n",
    "        i = x+1\n",
    "        #Option \"2\" for weights (i^2/2)\n",
    "        ItemWeights.append(i**2/2) \n",
    "\n",
    "#Print the Search Space:\n",
    "print(\"\\nSearch Space: \")\n",
    "print(Items**Containers)"
   ]
  },
  {
   "cell_type": "markdown",
   "id": "b683a1c5",
   "metadata": {},
   "source": [
    "# Experiment 1"
   ]
  },
  {
   "cell_type": "code",
   "execution_count": 52,
   "id": "587eb723",
   "metadata": {},
   "outputs": [],
   "source": [
    "\n",
    "max_fitness_of_generation = 0.0\n",
    "max_fitness_scores = []\n",
    "for i in range(0,5):\n",
    "    #Calling the initial Population Function\n",
    "    Initial_Population=Create_Initial_Population(10)\n",
    "    \n",
    "    for val in range(0,10000):\n",
    "        fitnessValue = []\n",
    "        for i in range(len(Initial_Population)):\n",
    "            fitness = Compute_Fitness(ItemWeights, Initial_Population[i])\n",
    "            fitnessValue.append(fitness)\n",
    "        max_fitness = max(fitnessValue)\n",
    "        if(max_fitness > max_fitness_of_generation):\n",
    "            max_fitness_of_generation = max_fitness\n",
    "        # select parents\n",
    "        selected_parents = []\n",
    "        selected_parents = [Binary_Tournament_Selection(Initial_Population, fitnessValue)for _ in range(2)]\n",
    "        p1 = selected_parents[0]\n",
    "        p2 = selected_parents[1]\n",
    "        global c1\n",
    "        global c2\n",
    "        c1 = []\n",
    "        c2 = []\n",
    "        c1,c2 = crossover(p1,p2)\n",
    "        Mutation_Fuction(1,c1,c2)\n",
    "\n",
    "        child1 = []\n",
    "        child1[:0] = c1\n",
    "        child2 = []\n",
    "        child2[:0] = c2\n",
    "    \n",
    "        for i in range(0, len(child1)):\n",
    "            child1[i] = int(child1[i])\n",
    "        for i in range(0, len(child2)):\n",
    "            child2[i] = int(child2[i])\n",
    "        #Computing their Fitness\n",
    "        c1Fitness = Compute_Fitness(ItemWeights, child1)\n",
    "        c2Fitness = Compute_Fitness(ItemWeights, child2)\n",
    "    \n",
    "        #Generating new POPULATION\n",
    "        if(c1Fitness < max(fitnessValue)):\n",
    "            Initial_Population[fitnessValue.index(max(fitnessValue))]= child1\n",
    "                               \n",
    "        if(c2Fitness < max(fitnessValue)):\n",
    "            Initial_Population[fitnessValue.index(max(fitnessValue))] = child2\n",
    "        \n",
    "        \n",
    "        #Printing new generated POPULATION\n",
    "        new_population = Initial_Population\n",
    "    max_fitness_scores.append(max_fitness_of_generation)"
   ]
  },
  {
   "cell_type": "code",
   "execution_count": 53,
   "id": "cf25fb82",
   "metadata": {},
   "outputs": [
    {
     "name": "stdout",
     "output_type": "stream",
     "text": [
      "[68.0, 68.0, 72.5, 72.5, 74.5]\n"
     ]
    }
   ],
   "source": [
    "print(max_fitness_scores)"
   ]
  },
  {
   "cell_type": "code",
   "execution_count": 54,
   "id": "f847fb03",
   "metadata": {},
   "outputs": [
    {
     "data": {
      "text/plain": [
       "Text(0, 0.5, 'Fitness Scores')"
      ]
     },
     "execution_count": 54,
     "metadata": {},
     "output_type": "execute_result"
    },
    {
     "data": {
      "image/png": "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",
      "text/plain": [
       "<Figure size 432x288 with 1 Axes>"
      ]
     },
     "metadata": {
      "needs_background": "light"
     },
     "output_type": "display_data"
    }
   ],
   "source": [
    "generation = [1, 2, 3, 4, 5]\n",
    "plt.plot(generation,max_fitness_scores )\n",
    "plt.xlabel('Generation')\n",
    "plt.ylabel('Fitness Scores')"
   ]
  },
  {
   "cell_type": "markdown",
   "id": "462eb175",
   "metadata": {},
   "source": [
    "# Experiment 2"
   ]
  },
  {
   "cell_type": "code",
   "execution_count": 55,
   "id": "dae36eb6",
   "metadata": {},
   "outputs": [],
   "source": [
    "max_fitness_of_generation = 0.0\n",
    "max_fitness_scores = []\n",
    "for i in range(0,5):\n",
    "    #Calling the initial Population Function\n",
    "    Initial_Population=Create_Initial_Population(100)\n",
    "\n",
    "    for val in range(0,10000):\n",
    "        fitnessValue = []\n",
    "        for i in range(len(Initial_Population)):\n",
    "            fitness = Compute_Fitness(ItemWeights, Initial_Population[i])\n",
    "            fitnessValue.append(fitness)\n",
    "        max_fitness = max(fitnessValue)\n",
    "        if(max_fitness > max_fitness_of_generation):\n",
    "            max_fitness_of_generation = max_fitness\n",
    "        # select parents\n",
    "        selected_parents = []\n",
    "        selected_parents = [Binary_Tournament_Selection(Initial_Population, fitnessValue)for _ in range(2)]\n",
    "        \n",
    "        p1 = selected_parents[0]\n",
    "        p2 = selected_parents[1]\n",
    "        global c1\n",
    "        global c2\n",
    "        c1 = []\n",
    "        c2 = []\n",
    "        c1,c2 = crossover(p1,p2)\n",
    "        Mutation_Fuction(1,c1,c2)\n",
    "\n",
    "        child1 = []\n",
    "        child1[:0] = c1\n",
    "        child2 = []\n",
    "        child2[:0] = c2\n",
    "    \n",
    "        for i in range(0, len(child1)):\n",
    "            child1[i] = int(child1[i])\n",
    "        for i in range(0, len(child2)):\n",
    "            child2[i] = int(child2[i])\n",
    "        #Computing their Fitness\n",
    "        c1Fitness = Compute_Fitness(ItemWeights, child1)\n",
    "        c2Fitness = Compute_Fitness(ItemWeights, child2)\n",
    "        \n",
    "        #Generating new POPULATION\n",
    "        if(c1Fitness < max(fitnessValue)):\n",
    "            Initial_Population[fitnessValue.index(max(fitnessValue))]= child1\n",
    "                               \n",
    "        if(c2Fitness < max(fitnessValue)):\n",
    "            Initial_Population[fitnessValue.index(max(fitnessValue))] = child2\n",
    "            \n",
    "        #Printing new generated POPULATION\n",
    "        new_population = Initial_Population\n",
    "    max_fitness_scores.append(max_fitness_of_generation)"
   ]
  },
  {
   "cell_type": "code",
   "execution_count": 56,
   "id": "7d5966bc",
   "metadata": {},
   "outputs": [
    {
     "name": "stdout",
     "output_type": "stream",
     "text": [
      "[17631.0, 17631.0, 17631.0, 17657.5, 17657.5]\n"
     ]
    }
   ],
   "source": [
    "print(max_fitness_scores)"
   ]
  },
  {
   "cell_type": "code",
   "execution_count": 57,
   "id": "b1013fa5",
   "metadata": {},
   "outputs": [
    {
     "data": {
      "text/plain": [
       "Text(0, 0.5, 'Fitness Scores')"
      ]
     },
     "execution_count": 57,
     "metadata": {},
     "output_type": "execute_result"
    },
    {
     "data": {
      "image/png": "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",
      "text/plain": [
       "<Figure size 432x288 with 1 Axes>"
      ]
     },
     "metadata": {
      "needs_background": "light"
     },
     "output_type": "display_data"
    }
   ],
   "source": [
    "generation = [1, 2, 3, 4, 5]\n",
    "plt.plot(generation,max_fitness_scores )\n",
    "plt.xlabel('Generation')\n",
    "plt.ylabel('Fitness Scores')"
   ]
  },
  {
   "cell_type": "markdown",
   "id": "c41fdd7e",
   "metadata": {},
   "source": [
    "# Experiment 3"
   ]
  },
  {
   "cell_type": "code",
   "execution_count": 58,
   "id": "aec1c963",
   "metadata": {},
   "outputs": [],
   "source": [
    "max_fitness_of_generation = 0.0\n",
    "max_fitness_scores = []\n",
    "for i in range(0,5):\n",
    "    #Calling the initial Population Function\n",
    "    Initial_Population=Create_Initial_Population(10)\n",
    "    for val in range(0,10000):\n",
    "        fitnessValue = []\n",
    "        for i in range(len(Initial_Population)):\n",
    "            fitness = Compute_Fitness(ItemWeights, Initial_Population[i])\n",
    "            fitnessValue.append(fitness)\n",
    "        max_fitness = max(fitnessValue)\n",
    "        if(max_fitness > max_fitness_of_generation):\n",
    "            max_fitness_of_generation = max_fitness\n",
    "        # select parents\n",
    "        selected_parents = []\n",
    "        \n",
    "        selected_parents = [Binary_Tournament_Selection(Initial_Population, fitnessValue)for _ in range(2)]\n",
    "        \n",
    "        p1 = selected_parents[0]\n",
    "        p2 = selected_parents[1]\n",
    "        global c1\n",
    "        global c2\n",
    "        c1 = []\n",
    "        c2 = []\n",
    "        c1,c2 = crossover(p1,p2)\n",
    "        Mutation_Fuction(5,c1,c2)\n",
    "\n",
    "        child1 = []\n",
    "        child1[:0] = c1\n",
    "        child2 = []\n",
    "        child2[:0] = c2\n",
    "    \n",
    "        for i in range(0, len(child1)):\n",
    "            child1[i] = int(child1[i])\n",
    "        for i in range(0, len(child2)):\n",
    "            child2[i] = int(child2[i])\n",
    "        #Computing their Fitness\n",
    "        c1Fitness = Compute_Fitness(ItemWeights, child1)\n",
    "        c2Fitness = Compute_Fitness(ItemWeights, child2)\n",
    "        \n",
    "        #Generating new POPULATION\n",
    "        if(c1Fitness < max(fitnessValue)):\n",
    "            Initial_Population[fitnessValue.index(max(fitnessValue))]= child1\n",
    "                               \n",
    "        if(c2Fitness < max(fitnessValue)):\n",
    "            Initial_Population[fitnessValue.index(max(fitnessValue))] = child2\n",
    "            \n",
    "        #Printing new generated POPULATION\n",
    "        new_population = Initial_Population\n",
    "    max_fitness_scores.append(max_fitness_of_generation)"
   ]
  },
  {
   "cell_type": "code",
   "execution_count": 59,
   "id": "973ffd78",
   "metadata": {},
   "outputs": [
    {
     "name": "stdout",
     "output_type": "stream",
     "text": [
      "[68.0, 97.0, 97.0, 97.0, 97.0]\n"
     ]
    }
   ],
   "source": [
    "print(max_fitness_scores)"
   ]
  },
  {
   "cell_type": "code",
   "execution_count": 60,
   "id": "4ccab8aa",
   "metadata": {},
   "outputs": [
    {
     "data": {
      "text/plain": [
       "Text(0, 0.5, 'Fitness Scores')"
      ]
     },
     "execution_count": 60,
     "metadata": {},
     "output_type": "execute_result"
    },
    {
     "data": {
      "image/png": "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",
      "text/plain": [
       "<Figure size 432x288 with 1 Axes>"
      ]
     },
     "metadata": {
      "needs_background": "light"
     },
     "output_type": "display_data"
    }
   ],
   "source": [
    "generation = [1, 2, 3, 4, 5]\n",
    "plt.plot(generation,max_fitness_scores )\n",
    "plt.xlabel('Generation')\n",
    "plt.ylabel('Fitness Scores')"
   ]
  },
  {
   "cell_type": "markdown",
   "id": "02d1e1ed",
   "metadata": {},
   "source": [
    "# Experiment 4"
   ]
  },
  {
   "cell_type": "code",
   "execution_count": 61,
   "id": "3f8e2703",
   "metadata": {},
   "outputs": [],
   "source": [
    "max_fitness_of_generation = 0.0\n",
    "max_fitness_scores = []\n",
    "for i in range(0,5):\n",
    "    #Calling the initial Population Function\n",
    "    Initial_Population=Create_Initial_Population(100)\n",
    "    for val in range(0,10000):\n",
    "        fitnessValue = []\n",
    "        for i in range(len(Initial_Population)):\n",
    "            fitness = Compute_Fitness(ItemWeights, Initial_Population[i])\n",
    "            fitnessValue.append(fitness)\n",
    "        max_fitness = max(fitnessValue)\n",
    "        if(max_fitness > max_fitness_of_generation):\n",
    "            max_fitness_of_generation = max_fitness\n",
    "        # select parents\n",
    "        selected_parents = []\n",
    "        selected_parents = [Binary_Tournament_Selection(Initial_Population, fitnessValue)for _ in range(2)]\n",
    "        \n",
    "        p1 = selected_parents[0]\n",
    "        p2 = selected_parents[1]\n",
    "        global c1\n",
    "        global c2\n",
    "        c1 = []\n",
    "        c2 = []\n",
    "        c1,c2 = crossover(p1,p2)\n",
    "        Mutation_Fuction(5,c1,c2)\n",
    "\n",
    "        child1 = []\n",
    "        child1[:0] = c1\n",
    "        child2 = []\n",
    "        child2[:0] = c2\n",
    "    \n",
    "        for i in range(0, len(child1)):\n",
    "            child1[i] = int(child1[i])\n",
    "        for i in range(0, len(child2)):\n",
    "            child2[i] = int(child2[i])\n",
    "        #Computing their Fitness\n",
    "        c1Fitness = Compute_Fitness(ItemWeights, child1)\n",
    "        c2Fitness = Compute_Fitness(ItemWeights, child2)\n",
    "        \n",
    "        #Generating new POPULATION\n",
    "        if(c1Fitness < max(fitnessValue)):\n",
    "            Initial_Population[fitnessValue.index(max(fitnessValue))]= child1\n",
    "                               \n",
    "        if(c2Fitness < max(fitnessValue)):\n",
    "            Initial_Population[fitnessValue.index(max(fitnessValue))] = child2\n",
    "            \n",
    "        #Printing new generated POPULATION\n",
    "        new_population = Initial_Population\n",
    "    max_fitness_scores.append(max_fitness_of_generation)"
   ]
  },
  {
   "cell_type": "code",
   "execution_count": 62,
   "id": "ab1389e8",
   "metadata": {},
   "outputs": [
    {
     "name": "stdout",
     "output_type": "stream",
     "text": [
      "[15084.0, 15084.0, 17649.0, 17748.5, 17852.0]\n"
     ]
    }
   ],
   "source": [
    "print(max_fitness_scores)"
   ]
  },
  {
   "cell_type": "code",
   "execution_count": 63,
   "id": "92edea3e",
   "metadata": {},
   "outputs": [
    {
     "data": {
      "text/plain": [
       "Text(0, 0.5, 'Fitness Scores')"
      ]
     },
     "execution_count": 63,
     "metadata": {},
     "output_type": "execute_result"
    },
    {
     "data": {
      "image/png": "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",
      "text/plain": [
       "<Figure size 432x288 with 1 Axes>"
      ]
     },
     "metadata": {
      "needs_background": "light"
     },
     "output_type": "display_data"
    }
   ],
   "source": [
    "generation = [1, 2, 3, 4, 5]\n",
    "plt.plot(generation,max_fitness_scores )\n",
    "plt.xlabel('Generation')\n",
    "plt.ylabel('Fitness Scores')"
   ]
  },
  {
   "cell_type": "markdown",
   "id": "2a36819f",
   "metadata": {},
   "source": [
    "# Experiment 5"
   ]
  },
  {
   "cell_type": "code",
   "execution_count": 64,
   "id": "6bfb2d95",
   "metadata": {},
   "outputs": [],
   "source": [
    "max_fitness_of_generation = 0.0\n",
    "max_fitness_scores = []\n",
    "for i in range(0,5):\n",
    "    #Calling the initial Population Function\n",
    "    Initial_Population=Create_Initial_Population(10)\n",
    "    \n",
    "    for val in range(0,10000):\n",
    "        fitnessValue = []\n",
    "        for i in range(len(Initial_Population)):\n",
    "            fitness = Compute_Fitness(ItemWeights, Initial_Population[i])\n",
    "            fitnessValue.append(fitness)\n",
    "        max_fitness = max(fitnessValue)\n",
    "        if(max_fitness > max_fitness_of_generation):\n",
    "            max_fitness_of_generation = max_fitness\n",
    "        # select parents\n",
    "        selected_parents = []\n",
    "        selected_parents = [Binary_Tournament_Selection(Initial_Population, fitnessValue)for _ in range(2)]\n",
    "   \n",
    "        p1 = selected_parents[0]\n",
    "        p2 = selected_parents[1]\n",
    "        global c1\n",
    "        global c2\n",
    "        c1 = []\n",
    "        c2 = []\n",
    "        c1,c2  = Mutation_Fuction(5,p1,p2)\n",
    "\n",
    "        child1 = []\n",
    "        child1[:0] = c1\n",
    "        child2 = []\n",
    "        child2[:0] = c2\n",
    "    \n",
    "        for i in range(0, len(child1)):\n",
    "            child1[i] = int(child1[i])\n",
    "        for i in range(0, len(child2)):\n",
    "            child2[i] = int(child2[i])\n",
    "        #Computing their Fitness\n",
    "        c1Fitness = Compute_Fitness(ItemWeights, child1)\n",
    "        c2Fitness = Compute_Fitness(ItemWeights, child2)\n",
    "        \n",
    "        #Generating new POPULATION\n",
    "        if(c1Fitness < max(fitnessValue)):\n",
    "            Initial_Population[fitnessValue.index(max(fitnessValue))]= child1\n",
    "                               \n",
    "        if(c2Fitness < max(fitnessValue)):\n",
    "            Initial_Population[fitnessValue.index(max(fitnessValue))] = child2\n",
    "            \n",
    "        #Printing new generated POPULATION\n",
    "        new_population = Initial_Population\n",
    "    max_fitness_scores.append(max_fitness_of_generation)"
   ]
  },
  {
   "cell_type": "code",
   "execution_count": 65,
   "id": "105572b1",
   "metadata": {},
   "outputs": [
    {
     "name": "stdout",
     "output_type": "stream",
     "text": [
      "[115.0, 115.0, 115.0, 122.5, 124.5]\n"
     ]
    }
   ],
   "source": [
    "print(max_fitness_scores)"
   ]
  },
  {
   "cell_type": "code",
   "execution_count": 66,
   "id": "fc09d9be",
   "metadata": {},
   "outputs": [
    {
     "data": {
      "text/plain": [
       "Text(0, 0.5, 'Fitness Scores')"
      ]
     },
     "execution_count": 66,
     "metadata": {},
     "output_type": "execute_result"
    },
    {
     "data": {
      "image/png": "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",
      "text/plain": [
       "<Figure size 432x288 with 1 Axes>"
      ]
     },
     "metadata": {
      "needs_background": "light"
     },
     "output_type": "display_data"
    }
   ],
   "source": [
    "generation = [1, 2, 3, 4, 5]\n",
    "plt.plot(generation,max_fitness_scores )\n",
    "plt.xlabel('Generation')\n",
    "plt.ylabel('Fitness Scores')"
   ]
  },
  {
   "cell_type": "markdown",
   "id": "44d6b6c0",
   "metadata": {},
   "source": [
    "# Experiment 6"
   ]
  },
  {
   "cell_type": "code",
   "execution_count": 67,
   "id": "f1be2214",
   "metadata": {},
   "outputs": [],
   "source": [
    "max_fitness_of_generation = 0.0\n",
    "max_fitness_scores = []\n",
    "for i in range(0,5):\n",
    "    #Calling the initial Population Function\n",
    "    Initial_Population=Create_Initial_Population(10)\n",
    "    \n",
    "    for val in range(0,10000):\n",
    "        fitnessValue = []\n",
    "        for i in range(len(Initial_Population)):\n",
    "            fitness = Compute_Fitness(ItemWeights, Initial_Population[i])\n",
    "            fitnessValue.append(fitness)\n",
    "        max_fitness = max(fitnessValue)\n",
    "        if(max_fitness > max_fitness_of_generation):\n",
    "            max_fitness_of_generation = max_fitness\n",
    "            \n",
    "        # select parents\n",
    "        selected_parents = []\n",
    "        selected_parents = [Binary_Tournament_Selection(Initial_Population, fitnessValue)for _ in range(2)]\n",
    "\n",
    "        p1 = selected_parents[0]\n",
    "        p2 = selected_parents[1]\n",
    "        global c1\n",
    "        global c2\n",
    "        c1 = []\n",
    "        c2 = []\n",
    "        c1,c2 = crossover(p1,p2)\n",
    "\n",
    "\n",
    "        child1 = []\n",
    "        child1[:0] = c1\n",
    "        child2 = []\n",
    "        child2[:0] = c2\n",
    "    \n",
    "        for i in range(0, len(child1)):\n",
    "            child1[i] = int(child1[i])\n",
    "        for i in range(0, len(child2)):\n",
    "            child2[i] = int(child2[i])\n",
    "        #Computing their Fitness\n",
    "        c1Fitness = Compute_Fitness(ItemWeights, child1)\n",
    "        c2Fitness = Compute_Fitness(ItemWeights, child2)\n",
    "        \n",
    "        #Generating new POPULATION\n",
    "        if(c1Fitness < max(fitnessValue)):\n",
    "            Initial_Population[fitnessValue.index(max(fitnessValue))]= child1\n",
    "                               \n",
    "        if(c2Fitness < max(fitnessValue)):\n",
    "            Initial_Population[fitnessValue.index(max(fitnessValue))] = child2\n",
    "            \n",
    "        #Printing new generated POPULATION\n",
    "        new_population = Initial_Population\n",
    "    max_fitness_scores.append(max_fitness_of_generation)"
   ]
  },
  {
   "cell_type": "code",
   "execution_count": 68,
   "id": "18ec5437",
   "metadata": {},
   "outputs": [
    {
     "name": "stdout",
     "output_type": "stream",
     "text": [
      "[62.5, 74.5, 74.5, 74.5, 74.5]\n"
     ]
    }
   ],
   "source": [
    "print(max_fitness_scores)"
   ]
  },
  {
   "cell_type": "code",
   "execution_count": 69,
   "id": "091e826f",
   "metadata": {},
   "outputs": [
    {
     "data": {
      "text/plain": [
       "Text(0, 0.5, 'Fitness Scores')"
      ]
     },
     "execution_count": 69,
     "metadata": {},
     "output_type": "execute_result"
    },
    {
     "data": {
      "image/png": "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",
      "text/plain": [
       "<Figure size 432x288 with 1 Axes>"
      ]
     },
     "metadata": {
      "needs_background": "light"
     },
     "output_type": "display_data"
    }
   ],
   "source": [
    "generation = [1, 2, 3, 4, 5]\n",
    "plt.plot(generation,max_fitness_scores )\n",
    "plt.xlabel('Generation')\n",
    "plt.ylabel('Fitness Scores')"
   ]
  }
 ],
 "metadata": {
  "kernelspec": {
   "display_name": "Python 3 (ipykernel)",
   "language": "python",
   "name": "python3"
  },
  "language_info": {
   "codemirror_mode": {
    "name": "ipython",
    "version": 3
   },
   "file_extension": ".py",
   "mimetype": "text/x-python",
   "name": "python",
   "nbconvert_exporter": "python",
   "pygments_lexer": "ipython3",
   "version": "3.9.12"
  }
 },
 "nbformat": 4,
 "nbformat_minor": 5
}
